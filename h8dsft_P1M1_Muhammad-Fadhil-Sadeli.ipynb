{
 "cells": [
  {
   "cell_type": "markdown",
   "metadata": {},
   "source": [
    "## Query"
   ]
  },
  {
   "cell_type": "markdown",
   "metadata": {},
   "source": [
    "SELECT limit_balance, sex, education_level, marital_status, age, pay_0, pay_2, pay_3, pay_4, pay_5, pay_6, bill_amt_1, bill_amt_2, bill_amt_3, bill_amt_4, bill_amt_5, bill_amt_6, pay_amt_1, pay_amt_2, pay_amt_3, pay_amt_4, pay_amt_5, pay_amt_6, default_payment_next_month FROM `bigquery-public-data.ml_datasets.credit_card_default` \n",
    "LIMIT 4000"
   ]
  },
  {
   "cell_type": "markdown",
   "metadata": {},
   "source": [
    "## i. Perkenalan"
   ]
  },
  {
   "cell_type": "markdown",
   "metadata": {},
   "source": [
    "### Muhammad Fadhil Sadeli\n",
    "### BATCH 002"
   ]
  },
  {
   "cell_type": "markdown",
   "metadata": {},
   "source": [
    "## OBJECTIVES\n",
    "\n",
    "Milestones 1 ini dibuat guna mengevaluasi Pembelajaran Phase 1 dalam konsep Supervised Learning sebagai berikut:\n",
    "\n",
    "- Mampu memperoleh data menggunakan BigQuery\n",
    "- Mampu memahami konsep supervised learning\n",
    "- Mampu mempersiapkan data untuk digunakan dalam model supervised learning\n",
    "- Mampu mengimplementasikan supervised learning dengan data yang diberikan\n",
    "- Mampu melakukan evaluasi model\n",
    "- Mampu melakukan model tuning"
   ]
  },
  {
   "cell_type": "markdown",
   "metadata": {},
   "source": [
    "## ii. Import Libraries"
   ]
  },
  {
   "cell_type": "markdown",
   "metadata": {},
   "source": [
    "`Memasukkan library yang digunakan`"
   ]
  },
  {
   "cell_type": "code",
   "execution_count": 1,
   "metadata": {},
   "outputs": [],
   "source": [
    "import pandas as pd\n",
    "import numpy as np\n",
    "import seaborn as sns\n",
    "import matplotlib.pyplot as plt\n",
    "import warnings\n",
    "warnings.filterwarnings('ignore')\n",
    "\n",
    "from scipy import stats\n",
    "from sklearn.model_selection import train_test_split,GridSearchCV,cross_val_score\n",
    "from feature_engine.outliers import Winsorizer\n",
    "from statsmodels.stats.outliers_influence import variance_inflation_factor\n",
    "from sklearn.linear_model import LogisticRegression\n",
    "from sklearn.svm import SVC\n",
    "from sklearn.tree import DecisionTreeClassifier\n",
    "from sklearn.ensemble import RandomForestClassifier,AdaBoostClassifier\n",
    "from sklearn.neighbors import KNeighborsClassifier\n",
    "from sklearn.naive_bayes import GaussianNB\n",
    "from sklearn.metrics import classification_report,ConfusionMatrixDisplay,confusion_matrix\n",
    "from sklearn.preprocessing import MinMaxScaler"
   ]
  },
  {
   "cell_type": "markdown",
   "metadata": {},
   "source": [
    "## iii. Data Loading"
   ]
  },
  {
   "cell_type": "markdown",
   "metadata": {},
   "source": [
    "`Import dataset`"
   ]
  },
  {
   "cell_type": "code",
   "execution_count": 2,
   "metadata": {},
   "outputs": [
    {
     "data": {
      "text/html": [
       "<div>\n",
       "<style scoped>\n",
       "    .dataframe tbody tr th:only-of-type {\n",
       "        vertical-align: middle;\n",
       "    }\n",
       "\n",
       "    .dataframe tbody tr th {\n",
       "        vertical-align: top;\n",
       "    }\n",
       "\n",
       "    .dataframe thead th {\n",
       "        text-align: right;\n",
       "    }\n",
       "</style>\n",
       "<table border=\"1\" class=\"dataframe\">\n",
       "  <thead>\n",
       "    <tr style=\"text-align: right;\">\n",
       "      <th></th>\n",
       "      <th>limit_balance</th>\n",
       "      <th>sex</th>\n",
       "      <th>education_level</th>\n",
       "      <th>marital_status</th>\n",
       "      <th>age</th>\n",
       "      <th>pay_0</th>\n",
       "      <th>pay_2</th>\n",
       "      <th>pay_3</th>\n",
       "      <th>pay_4</th>\n",
       "      <th>pay_5</th>\n",
       "      <th>...</th>\n",
       "      <th>bill_amt_4</th>\n",
       "      <th>bill_amt_5</th>\n",
       "      <th>bill_amt_6</th>\n",
       "      <th>pay_amt_1</th>\n",
       "      <th>pay_amt_2</th>\n",
       "      <th>pay_amt_3</th>\n",
       "      <th>pay_amt_4</th>\n",
       "      <th>pay_amt_5</th>\n",
       "      <th>pay_amt_6</th>\n",
       "      <th>default_payment_next_month</th>\n",
       "    </tr>\n",
       "  </thead>\n",
       "  <tbody>\n",
       "    <tr>\n",
       "      <th>0</th>\n",
       "      <td>50000</td>\n",
       "      <td>1</td>\n",
       "      <td>3</td>\n",
       "      <td>0</td>\n",
       "      <td>50</td>\n",
       "      <td>0</td>\n",
       "      <td>0</td>\n",
       "      <td>0</td>\n",
       "      <td>-1</td>\n",
       "      <td>-1</td>\n",
       "      <td>...</td>\n",
       "      <td>3400</td>\n",
       "      <td>2769</td>\n",
       "      <td>0</td>\n",
       "      <td>2266</td>\n",
       "      <td>0</td>\n",
       "      <td>3400</td>\n",
       "      <td>2769</td>\n",
       "      <td>1700</td>\n",
       "      <td>0</td>\n",
       "      <td>0</td>\n",
       "    </tr>\n",
       "    <tr>\n",
       "      <th>1</th>\n",
       "      <td>200000</td>\n",
       "      <td>2</td>\n",
       "      <td>3</td>\n",
       "      <td>0</td>\n",
       "      <td>45</td>\n",
       "      <td>-2</td>\n",
       "      <td>-2</td>\n",
       "      <td>-2</td>\n",
       "      <td>-2</td>\n",
       "      <td>-2</td>\n",
       "      <td>...</td>\n",
       "      <td>399</td>\n",
       "      <td>1396</td>\n",
       "      <td>0</td>\n",
       "      <td>2430</td>\n",
       "      <td>0</td>\n",
       "      <td>399</td>\n",
       "      <td>1396</td>\n",
       "      <td>0</td>\n",
       "      <td>0</td>\n",
       "      <td>0</td>\n",
       "    </tr>\n",
       "    <tr>\n",
       "      <th>2</th>\n",
       "      <td>130000</td>\n",
       "      <td>1</td>\n",
       "      <td>1</td>\n",
       "      <td>1</td>\n",
       "      <td>45</td>\n",
       "      <td>0</td>\n",
       "      <td>0</td>\n",
       "      <td>0</td>\n",
       "      <td>0</td>\n",
       "      <td>0</td>\n",
       "      <td>...</td>\n",
       "      <td>62377</td>\n",
       "      <td>63832</td>\n",
       "      <td>65099</td>\n",
       "      <td>2886</td>\n",
       "      <td>2908</td>\n",
       "      <td>2129</td>\n",
       "      <td>2354</td>\n",
       "      <td>2366</td>\n",
       "      <td>2291</td>\n",
       "      <td>0</td>\n",
       "    </tr>\n",
       "    <tr>\n",
       "      <th>3</th>\n",
       "      <td>230000</td>\n",
       "      <td>1</td>\n",
       "      <td>2</td>\n",
       "      <td>1</td>\n",
       "      <td>41</td>\n",
       "      <td>0</td>\n",
       "      <td>0</td>\n",
       "      <td>0</td>\n",
       "      <td>0</td>\n",
       "      <td>0</td>\n",
       "      <td>...</td>\n",
       "      <td>216260</td>\n",
       "      <td>215968</td>\n",
       "      <td>174195</td>\n",
       "      <td>9405</td>\n",
       "      <td>7769</td>\n",
       "      <td>7757</td>\n",
       "      <td>8030</td>\n",
       "      <td>6549</td>\n",
       "      <td>5226</td>\n",
       "      <td>1</td>\n",
       "    </tr>\n",
       "    <tr>\n",
       "      <th>4</th>\n",
       "      <td>50000</td>\n",
       "      <td>1</td>\n",
       "      <td>2</td>\n",
       "      <td>1</td>\n",
       "      <td>42</td>\n",
       "      <td>0</td>\n",
       "      <td>0</td>\n",
       "      <td>0</td>\n",
       "      <td>0</td>\n",
       "      <td>0</td>\n",
       "      <td>...</td>\n",
       "      <td>31320</td>\n",
       "      <td>36227</td>\n",
       "      <td>35569</td>\n",
       "      <td>2007</td>\n",
       "      <td>2000</td>\n",
       "      <td>1500</td>\n",
       "      <td>5400</td>\n",
       "      <td>0</td>\n",
       "      <td>3000</td>\n",
       "      <td>0</td>\n",
       "    </tr>\n",
       "  </tbody>\n",
       "</table>\n",
       "<p>5 rows × 24 columns</p>\n",
       "</div>"
      ],
      "text/plain": [
       "   limit_balance  sex  education_level  marital_status  age  pay_0  pay_2  \\\n",
       "0          50000    1                3               0   50      0      0   \n",
       "1         200000    2                3               0   45     -2     -2   \n",
       "2         130000    1                1               1   45      0      0   \n",
       "3         230000    1                2               1   41      0      0   \n",
       "4          50000    1                2               1   42      0      0   \n",
       "\n",
       "   pay_3  pay_4  pay_5  ...  bill_amt_4  bill_amt_5  bill_amt_6  pay_amt_1  \\\n",
       "0      0     -1     -1  ...        3400        2769           0       2266   \n",
       "1     -2     -2     -2  ...         399        1396           0       2430   \n",
       "2      0      0      0  ...       62377       63832       65099       2886   \n",
       "3      0      0      0  ...      216260      215968      174195       9405   \n",
       "4      0      0      0  ...       31320       36227       35569       2007   \n",
       "\n",
       "   pay_amt_2  pay_amt_3  pay_amt_4  pay_amt_5  pay_amt_6  \\\n",
       "0          0       3400       2769       1700          0   \n",
       "1          0        399       1396          0          0   \n",
       "2       2908       2129       2354       2366       2291   \n",
       "3       7769       7757       8030       6549       5226   \n",
       "4       2000       1500       5400          0       3000   \n",
       "\n",
       "   default_payment_next_month  \n",
       "0                           0  \n",
       "1                           0  \n",
       "2                           0  \n",
       "3                           1  \n",
       "4                           0  \n",
       "\n",
       "[5 rows x 24 columns]"
      ]
     },
     "execution_count": 2,
     "metadata": {},
     "output_type": "execute_result"
    }
   ],
   "source": [
    "data = pd.read_csv('h8dsft_P1M1_Muhammad_Fadhil_Sadeli.csv', skipinitialspace = True)\n",
    "data.head()"
   ]
  },
  {
   "cell_type": "code",
   "execution_count": 3,
   "metadata": {},
   "outputs": [
    {
     "data": {
      "text/html": [
       "<div>\n",
       "<style scoped>\n",
       "    .dataframe tbody tr th:only-of-type {\n",
       "        vertical-align: middle;\n",
       "    }\n",
       "\n",
       "    .dataframe tbody tr th {\n",
       "        vertical-align: top;\n",
       "    }\n",
       "\n",
       "    .dataframe thead th {\n",
       "        text-align: right;\n",
       "    }\n",
       "</style>\n",
       "<table border=\"1\" class=\"dataframe\">\n",
       "  <thead>\n",
       "    <tr style=\"text-align: right;\">\n",
       "      <th></th>\n",
       "      <th>limit_balance</th>\n",
       "      <th>sex</th>\n",
       "      <th>education_level</th>\n",
       "      <th>marital_status</th>\n",
       "      <th>age</th>\n",
       "      <th>pay_0</th>\n",
       "      <th>pay_2</th>\n",
       "      <th>pay_3</th>\n",
       "      <th>pay_4</th>\n",
       "      <th>pay_5</th>\n",
       "      <th>...</th>\n",
       "      <th>bill_amt_4</th>\n",
       "      <th>bill_amt_5</th>\n",
       "      <th>bill_amt_6</th>\n",
       "      <th>pay_amt_1</th>\n",
       "      <th>pay_amt_2</th>\n",
       "      <th>pay_amt_3</th>\n",
       "      <th>pay_amt_4</th>\n",
       "      <th>pay_amt_5</th>\n",
       "      <th>pay_amt_6</th>\n",
       "      <th>default_payment_next_month</th>\n",
       "    </tr>\n",
       "  </thead>\n",
       "  <tbody>\n",
       "    <tr>\n",
       "      <th>2960</th>\n",
       "      <td>320000</td>\n",
       "      <td>1</td>\n",
       "      <td>2</td>\n",
       "      <td>1</td>\n",
       "      <td>41</td>\n",
       "      <td>1</td>\n",
       "      <td>-2</td>\n",
       "      <td>-2</td>\n",
       "      <td>-2</td>\n",
       "      <td>-2</td>\n",
       "      <td>...</td>\n",
       "      <td>0</td>\n",
       "      <td>700</td>\n",
       "      <td>860</td>\n",
       "      <td>0</td>\n",
       "      <td>0</td>\n",
       "      <td>0</td>\n",
       "      <td>700</td>\n",
       "      <td>860</td>\n",
       "      <td>2420</td>\n",
       "      <td>1</td>\n",
       "    </tr>\n",
       "    <tr>\n",
       "      <th>2961</th>\n",
       "      <td>20000</td>\n",
       "      <td>1</td>\n",
       "      <td>1</td>\n",
       "      <td>1</td>\n",
       "      <td>39</td>\n",
       "      <td>-1</td>\n",
       "      <td>-1</td>\n",
       "      <td>-1</td>\n",
       "      <td>-1</td>\n",
       "      <td>-1</td>\n",
       "      <td>...</td>\n",
       "      <td>630</td>\n",
       "      <td>664</td>\n",
       "      <td>598</td>\n",
       "      <td>700</td>\n",
       "      <td>600</td>\n",
       "      <td>700</td>\n",
       "      <td>700</td>\n",
       "      <td>600</td>\n",
       "      <td>1400</td>\n",
       "      <td>0</td>\n",
       "    </tr>\n",
       "    <tr>\n",
       "      <th>2962</th>\n",
       "      <td>20000</td>\n",
       "      <td>1</td>\n",
       "      <td>2</td>\n",
       "      <td>2</td>\n",
       "      <td>25</td>\n",
       "      <td>0</td>\n",
       "      <td>0</td>\n",
       "      <td>0</td>\n",
       "      <td>0</td>\n",
       "      <td>0</td>\n",
       "      <td>...</td>\n",
       "      <td>16600</td>\n",
       "      <td>17025</td>\n",
       "      <td>17381</td>\n",
       "      <td>1300</td>\n",
       "      <td>1300</td>\n",
       "      <td>1300</td>\n",
       "      <td>700</td>\n",
       "      <td>630</td>\n",
       "      <td>650</td>\n",
       "      <td>0</td>\n",
       "    </tr>\n",
       "    <tr>\n",
       "      <th>2963</th>\n",
       "      <td>50000</td>\n",
       "      <td>1</td>\n",
       "      <td>2</td>\n",
       "      <td>2</td>\n",
       "      <td>38</td>\n",
       "      <td>0</td>\n",
       "      <td>0</td>\n",
       "      <td>0</td>\n",
       "      <td>0</td>\n",
       "      <td>0</td>\n",
       "      <td>...</td>\n",
       "      <td>17833</td>\n",
       "      <td>18246</td>\n",
       "      <td>18642</td>\n",
       "      <td>1300</td>\n",
       "      <td>1600</td>\n",
       "      <td>650</td>\n",
       "      <td>700</td>\n",
       "      <td>700</td>\n",
       "      <td>700</td>\n",
       "      <td>0</td>\n",
       "    </tr>\n",
       "    <tr>\n",
       "      <th>2964</th>\n",
       "      <td>100000</td>\n",
       "      <td>2</td>\n",
       "      <td>1</td>\n",
       "      <td>2</td>\n",
       "      <td>28</td>\n",
       "      <td>0</td>\n",
       "      <td>0</td>\n",
       "      <td>0</td>\n",
       "      <td>2</td>\n",
       "      <td>0</td>\n",
       "      <td>...</td>\n",
       "      <td>10775</td>\n",
       "      <td>10998</td>\n",
       "      <td>12655</td>\n",
       "      <td>1300</td>\n",
       "      <td>3005</td>\n",
       "      <td>0</td>\n",
       "      <td>700</td>\n",
       "      <td>2000</td>\n",
       "      <td>1500</td>\n",
       "      <td>0</td>\n",
       "    </tr>\n",
       "  </tbody>\n",
       "</table>\n",
       "<p>5 rows × 24 columns</p>\n",
       "</div>"
      ],
      "text/plain": [
       "      limit_balance  sex  education_level  marital_status  age  pay_0  pay_2  \\\n",
       "2960         320000    1                2               1   41      1     -2   \n",
       "2961          20000    1                1               1   39     -1     -1   \n",
       "2962          20000    1                2               2   25      0      0   \n",
       "2963          50000    1                2               2   38      0      0   \n",
       "2964         100000    2                1               2   28      0      0   \n",
       "\n",
       "      pay_3  pay_4  pay_5  ...  bill_amt_4  bill_amt_5  bill_amt_6  pay_amt_1  \\\n",
       "2960     -2     -2     -2  ...           0         700         860          0   \n",
       "2961     -1     -1     -1  ...         630         664         598        700   \n",
       "2962      0      0      0  ...       16600       17025       17381       1300   \n",
       "2963      0      0      0  ...       17833       18246       18642       1300   \n",
       "2964      0      2      0  ...       10775       10998       12655       1300   \n",
       "\n",
       "      pay_amt_2  pay_amt_3  pay_amt_4  pay_amt_5  pay_amt_6  \\\n",
       "2960          0          0        700        860       2420   \n",
       "2961        600        700        700        600       1400   \n",
       "2962       1300       1300        700        630        650   \n",
       "2963       1600        650        700        700        700   \n",
       "2964       3005          0        700       2000       1500   \n",
       "\n",
       "      default_payment_next_month  \n",
       "2960                           1  \n",
       "2961                           0  \n",
       "2962                           0  \n",
       "2963                           0  \n",
       "2964                           0  \n",
       "\n",
       "[5 rows x 24 columns]"
      ]
     },
     "execution_count": 3,
     "metadata": {},
     "output_type": "execute_result"
    }
   ],
   "source": [
    "data.tail()"
   ]
  },
  {
   "cell_type": "markdown",
   "metadata": {},
   "source": [
    "`Mengecek informasi data`"
   ]
  },
  {
   "cell_type": "code",
   "execution_count": 4,
   "metadata": {},
   "outputs": [
    {
     "name": "stdout",
     "output_type": "stream",
     "text": [
      "<class 'pandas.core.frame.DataFrame'>\n",
      "RangeIndex: 2965 entries, 0 to 2964\n",
      "Data columns (total 24 columns):\n",
      " #   Column                      Non-Null Count  Dtype\n",
      "---  ------                      --------------  -----\n",
      " 0   limit_balance               2965 non-null   int64\n",
      " 1   sex                         2965 non-null   int64\n",
      " 2   education_level             2965 non-null   int64\n",
      " 3   marital_status              2965 non-null   int64\n",
      " 4   age                         2965 non-null   int64\n",
      " 5   pay_0                       2965 non-null   int64\n",
      " 6   pay_2                       2965 non-null   int64\n",
      " 7   pay_3                       2965 non-null   int64\n",
      " 8   pay_4                       2965 non-null   int64\n",
      " 9   pay_5                       2965 non-null   int64\n",
      " 10  pay_6                       2965 non-null   int64\n",
      " 11  bill_amt_1                  2965 non-null   int64\n",
      " 12  bill_amt_2                  2965 non-null   int64\n",
      " 13  bill_amt_3                  2965 non-null   int64\n",
      " 14  bill_amt_4                  2965 non-null   int64\n",
      " 15  bill_amt_5                  2965 non-null   int64\n",
      " 16  bill_amt_6                  2965 non-null   int64\n",
      " 17  pay_amt_1                   2965 non-null   int64\n",
      " 18  pay_amt_2                   2965 non-null   int64\n",
      " 19  pay_amt_3                   2965 non-null   int64\n",
      " 20  pay_amt_4                   2965 non-null   int64\n",
      " 21  pay_amt_5                   2965 non-null   int64\n",
      " 22  pay_amt_6                   2965 non-null   int64\n",
      " 23  default_payment_next_month  2965 non-null   int64\n",
      "dtypes: int64(24)\n",
      "memory usage: 556.1 KB\n"
     ]
    }
   ],
   "source": [
    "data.info()"
   ]
  },
  {
   "cell_type": "markdown",
   "metadata": {},
   "source": [
    "`Mencari missing value pada data`"
   ]
  },
  {
   "cell_type": "code",
   "execution_count": 5,
   "metadata": {},
   "outputs": [
    {
     "data": {
      "text/plain": [
       "limit_balance                 0\n",
       "sex                           0\n",
       "education_level               0\n",
       "marital_status                0\n",
       "age                           0\n",
       "pay_0                         0\n",
       "pay_2                         0\n",
       "pay_3                         0\n",
       "pay_4                         0\n",
       "pay_5                         0\n",
       "pay_6                         0\n",
       "bill_amt_1                    0\n",
       "bill_amt_2                    0\n",
       "bill_amt_3                    0\n",
       "bill_amt_4                    0\n",
       "bill_amt_5                    0\n",
       "bill_amt_6                    0\n",
       "pay_amt_1                     0\n",
       "pay_amt_2                     0\n",
       "pay_amt_3                     0\n",
       "pay_amt_4                     0\n",
       "pay_amt_5                     0\n",
       "pay_amt_6                     0\n",
       "default_payment_next_month    0\n",
       "dtype: int64"
      ]
     },
     "execution_count": 5,
     "metadata": {},
     "output_type": "execute_result"
    }
   ],
   "source": [
    "data.isnull().sum()"
   ]
  },
  {
   "cell_type": "markdown",
   "metadata": {},
   "source": [
    "`Mencari berapa banyak baris data yang duplicate`"
   ]
  },
  {
   "cell_type": "code",
   "execution_count": 6,
   "metadata": {},
   "outputs": [
    {
     "data": {
      "text/plain": [
       "(1, 24)"
      ]
     },
     "execution_count": 6,
     "metadata": {},
     "output_type": "execute_result"
    }
   ],
   "source": [
    "data[data.duplicated()].shape"
   ]
  },
  {
   "cell_type": "code",
   "execution_count": 7,
   "metadata": {},
   "outputs": [
    {
     "data": {
      "text/plain": [
       "array([3, 1, 2, 5, 6, 4, 0], dtype=int64)"
      ]
     },
     "execution_count": 7,
     "metadata": {},
     "output_type": "execute_result"
    }
   ],
   "source": [
    "# check unique value in education level\n",
    "data['education_level'].unique()"
   ]
  },
  {
   "cell_type": "code",
   "execution_count": 8,
   "metadata": {},
   "outputs": [
    {
     "data": {
      "text/plain": [
       "array([0, 1, 2, 3], dtype=int64)"
      ]
     },
     "execution_count": 8,
     "metadata": {},
     "output_type": "execute_result"
    }
   ],
   "source": [
    "# check unique value in maritas_status\n",
    "data['marital_status'].unique()"
   ]
  },
  {
   "cell_type": "code",
   "execution_count": 9,
   "metadata": {},
   "outputs": [
    {
     "data": {
      "text/plain": [
       "array([ 0, -2,  2, -1,  3,  1,  4,  5,  7,  8,  6], dtype=int64)"
      ]
     },
     "execution_count": 9,
     "metadata": {},
     "output_type": "execute_result"
    }
   ],
   "source": [
    "# check unique value in pay_0\n",
    "data['pay_0'].unique()"
   ]
  },
  {
   "cell_type": "markdown",
   "metadata": {},
   "source": [
    "`Describe`\n",
    "- `limit_balance`   : Amount of given credit in NT dollars (includes individual and family/supplementary credit)        \n",
    "- `sex` : Gender (1=male, 2=female)\n",
    "- `education_level` : Education Level (1=graduate school, 2=university, 3=high school, 4=others, 5=unknown, 6=unknown)          \n",
    "- `marital_status`  : Marital status (1=married, 2=single, 3=others)           \n",
    "- `age` : Age in years            \n",
    "- `pay_0`   : Repayment status in September, 2005 (-1=pay duly, 1=payment delay for one month, 2=payment delay for two months, ... 8=payment delay for eight months, 9=payment delay for nine months and above)           \n",
    "- `pay_2`   : Repayment status in August, 2005 (scale same as above) \n",
    "- `pay_3`   : Repayment status in July, 2005 (scale same as above)               \n",
    "- `pay_4`   : Repayment status in June, 2005 (scale same as above)              \n",
    "- `pay_5`   : Repayment status in May, 2005 (scale same as above)              \n",
    "- `pay_6`   : Repayment status in April, 2005 (scale same as above)               \n",
    "- `bill_amt_1`  : Amount of bill statement in September, 2005 (NT dollar)             \n",
    "- `bill_amt_2`  : Amount of bill statement in August, 2005 (NT dollar)             \n",
    "- `bill_amt_3`  : Amount of bill statement in July, 2005 (NT dollar)             \n",
    "- `bill_amt_4`  : Amount of bill statement in June, 2005 (NT dollar)             \n",
    "- `bill_amt_5`  : Amount of bill statement in May, 2005 (NT dollar)             \n",
    "- `bill_amt_6`  : Amount of bill statement in April, 2005 (NT dollar)             \n",
    "- `pay_amt_1`   : Amount of previous payment in September, 2005 (NT dollar)              \n",
    "- `pay_amt_2`   : Amount of previous payment in August, 2005 (NT dollar)              \n",
    "- `pay_amt_3`   : Amount of previous payment in July, 2005 (NT dollar)              \n",
    "- `pay_amt_4`   : Amount of previous payment in June, 2005 (NT dollar)              \n",
    "- `pay_amt_5`   : Amount of previous payment in May, 2005 (NT dollar)              \n",
    "- `pay_amt_6`   : Amount of previous payment in April, 2005 (NT dollar)              \n",
    "- `default_payment_next_month`  : Default payment (1=yes, 0=no)"
   ]
  },
  {
   "cell_type": "markdown",
   "metadata": {},
   "source": [
    "`Berdasarkan general overview yang didapat:`\n",
    "- Seluruh kolom mempunyai tipe data int, sehingga bisa dikatakan keseluruhan kolom berisi angka angka saja baik numerikal maupun kategorikal \n",
    "- Pada data frame mempunyai duplicate data sebanyak 1 baris data saja\n",
    "- Pada kolom pay_0 mempunyai nama yang missleading sehingga perlu diganti menjadi pay_1 agar sama urutannya seperti kolom bill_amt dan pay_amt sesuai dengan bulannya\n",
    "- Pada kolom education level mempunyai unique value 0,1,2,3,4,5, dan 6. Yang dimana kolom 0, 5 dan 6 mempunyai nilai yang sama yaitu unknown sehingga kolom tersebut bisa digabung dengan unique 4 atau others\n",
    "- Pada kolom marital status mempunyai unique value 0,1,2, dan 3. Dikarenakan unique value 0 tidak mempunyai definisi yang jelas sehingga unique value 0 tersebut dianggap sama dengan others atau unique value 3\n",
    "- Pada kolom Pay hingga -2,-1,0,1,2,3,4,5,6,7,8, dan 9. Unique value -2 pada kolom pay bermakna orang tersebut membayar tagihan kredit 2 bulan lebih cepat sebelum jatuh tempo, begitupun dengan -1 yang berarti 1 bulan lebih cepat dan unique value 0 yang berarti pembayaran sesuai dengan jatuh tempo. Sedangkan untuk nilai 1 hingga 9 berarti pembayaran tagihan kredit telat satu bulan untuk value bernilai 1 dan 9 yang berati telat 9 bulan sesuai dengan unique valuenya.\n",
    "- Pada kolom bill_amt didefinisi sebagai total tagihan di setiap bulannya, sesuai dengan unique valuenya seperti kolom pay\n",
    "- Begitupun juga dengan pada kolom pay_amt didefinisi sebagai total pembayaran di setiap bulannya, sesuai dengan unique valuenya seperti kolom pay dan kolom  bill_amt\n",
    "- Pada kolom default_payment_next_month merupakan kolom target yang mempunyai unique value 0 dan 1. Nilai 1 yang berarti default payment dan 0 yang berarti tidak default payment. Lalu pada kolom cleaning section, nama kolom tersebut akan diubah menjadi payment agar mudah pembacaannya\n",
    "- Maksud dari Default Payment adalah jika YES atau 1 berarti orang tersebut dinyatakan telat membayar tagihan kredit sedangakan untuk NO atau 0 berarti orang tersebut sudah melakukan pembayaran tagihan kredit dengan tepat waktu\n"
   ]
  },
  {
   "cell_type": "markdown",
   "metadata": {},
   "source": [
    "## Data cleaning"
   ]
  },
  {
   "cell_type": "markdown",
   "metadata": {},
   "source": [
    "`Pada section ini akan melakukan proeses cleaning seperti berikut:`\n",
    "- Menghapus duplicate data sebanyak satu baris\n",
    "- Mengganti nama kolom pay_0 menjadi pay_1 dan default_payment_next_month menjadi payment\n",
    "- Menggabungkan unique value 0, 5, dan 4 di kolom education level menjadi satu unique aja yaitu 4 saja\n",
    "- Menggabungkan unique value 0 dengan unique value 3 pada kolom marital status "
   ]
  },
  {
   "cell_type": "code",
   "execution_count": 10,
   "metadata": {},
   "outputs": [],
   "source": [
    "#Mengcopy data\n",
    "data_clean = data.copy()"
   ]
  },
  {
   "cell_type": "code",
   "execution_count": 11,
   "metadata": {},
   "outputs": [
    {
     "data": {
      "text/plain": [
       "(0, 24)"
      ]
     },
     "execution_count": 11,
     "metadata": {},
     "output_type": "execute_result"
    }
   ],
   "source": [
    "#Mengapus duplicate data\n",
    "data_clean.drop_duplicates(inplace=True)\n",
    "data_clean[data.duplicated()].shape"
   ]
  },
  {
   "cell_type": "code",
   "execution_count": 12,
   "metadata": {},
   "outputs": [],
   "source": [
    "#Mengganti nama kolom\n",
    "data_clean.rename({\"pay_0\":\"pay_1\",\"default_payment_next_month\":\"payment\"},axis=1,inplace=True)"
   ]
  },
  {
   "cell_type": "code",
   "execution_count": 13,
   "metadata": {},
   "outputs": [],
   "source": [
    "#Mengganti unique value\n",
    "data_clean['education_level'] = data_clean['education_level'].replace({0:4,5:4,6:4})\n",
    "data_clean['marital_status'] = data_clean['marital_status'].replace({0:3})"
   ]
  },
  {
   "cell_type": "code",
   "execution_count": 14,
   "metadata": {},
   "outputs": [
    {
     "data": {
      "text/plain": [
       "2    1400\n",
       "1    1038\n",
       "3     483\n",
       "4      43\n",
       "Name: education_level, dtype: int64"
      ]
     },
     "execution_count": 14,
     "metadata": {},
     "output_type": "execute_result"
    }
   ],
   "source": [
    "#check value count pada education level\n",
    "data_clean['education_level'].value_counts()"
   ]
  },
  {
   "cell_type": "code",
   "execution_count": 15,
   "metadata": {},
   "outputs": [
    {
     "data": {
      "text/plain": [
       "2    1594\n",
       "1    1331\n",
       "3      39\n",
       "Name: marital_status, dtype: int64"
      ]
     },
     "execution_count": 15,
     "metadata": {},
     "output_type": "execute_result"
    }
   ],
   "source": [
    "#check value count pada marital_status\n",
    "data_clean['marital_status'].value_counts()"
   ]
  },
  {
   "cell_type": "code",
   "execution_count": 16,
   "metadata": {},
   "outputs": [
    {
     "data": {
      "text/html": [
       "<div>\n",
       "<style scoped>\n",
       "    .dataframe tbody tr th:only-of-type {\n",
       "        vertical-align: middle;\n",
       "    }\n",
       "\n",
       "    .dataframe tbody tr th {\n",
       "        vertical-align: top;\n",
       "    }\n",
       "\n",
       "    .dataframe thead th {\n",
       "        text-align: right;\n",
       "    }\n",
       "</style>\n",
       "<table border=\"1\" class=\"dataframe\">\n",
       "  <thead>\n",
       "    <tr style=\"text-align: right;\">\n",
       "      <th></th>\n",
       "      <th>limit_balance</th>\n",
       "      <th>sex</th>\n",
       "      <th>education_level</th>\n",
       "      <th>marital_status</th>\n",
       "      <th>age</th>\n",
       "      <th>pay_1</th>\n",
       "      <th>pay_2</th>\n",
       "      <th>pay_3</th>\n",
       "      <th>pay_4</th>\n",
       "      <th>pay_5</th>\n",
       "      <th>...</th>\n",
       "      <th>bill_amt_4</th>\n",
       "      <th>bill_amt_5</th>\n",
       "      <th>bill_amt_6</th>\n",
       "      <th>pay_amt_1</th>\n",
       "      <th>pay_amt_2</th>\n",
       "      <th>pay_amt_3</th>\n",
       "      <th>pay_amt_4</th>\n",
       "      <th>pay_amt_5</th>\n",
       "      <th>pay_amt_6</th>\n",
       "      <th>payment</th>\n",
       "    </tr>\n",
       "  </thead>\n",
       "  <tbody>\n",
       "    <tr>\n",
       "      <th>0</th>\n",
       "      <td>50000</td>\n",
       "      <td>1</td>\n",
       "      <td>3</td>\n",
       "      <td>3</td>\n",
       "      <td>50</td>\n",
       "      <td>0</td>\n",
       "      <td>0</td>\n",
       "      <td>0</td>\n",
       "      <td>-1</td>\n",
       "      <td>-1</td>\n",
       "      <td>...</td>\n",
       "      <td>3400</td>\n",
       "      <td>2769</td>\n",
       "      <td>0</td>\n",
       "      <td>2266</td>\n",
       "      <td>0</td>\n",
       "      <td>3400</td>\n",
       "      <td>2769</td>\n",
       "      <td>1700</td>\n",
       "      <td>0</td>\n",
       "      <td>0</td>\n",
       "    </tr>\n",
       "    <tr>\n",
       "      <th>1</th>\n",
       "      <td>200000</td>\n",
       "      <td>2</td>\n",
       "      <td>3</td>\n",
       "      <td>3</td>\n",
       "      <td>45</td>\n",
       "      <td>-2</td>\n",
       "      <td>-2</td>\n",
       "      <td>-2</td>\n",
       "      <td>-2</td>\n",
       "      <td>-2</td>\n",
       "      <td>...</td>\n",
       "      <td>399</td>\n",
       "      <td>1396</td>\n",
       "      <td>0</td>\n",
       "      <td>2430</td>\n",
       "      <td>0</td>\n",
       "      <td>399</td>\n",
       "      <td>1396</td>\n",
       "      <td>0</td>\n",
       "      <td>0</td>\n",
       "      <td>0</td>\n",
       "    </tr>\n",
       "    <tr>\n",
       "      <th>2</th>\n",
       "      <td>130000</td>\n",
       "      <td>1</td>\n",
       "      <td>1</td>\n",
       "      <td>1</td>\n",
       "      <td>45</td>\n",
       "      <td>0</td>\n",
       "      <td>0</td>\n",
       "      <td>0</td>\n",
       "      <td>0</td>\n",
       "      <td>0</td>\n",
       "      <td>...</td>\n",
       "      <td>62377</td>\n",
       "      <td>63832</td>\n",
       "      <td>65099</td>\n",
       "      <td>2886</td>\n",
       "      <td>2908</td>\n",
       "      <td>2129</td>\n",
       "      <td>2354</td>\n",
       "      <td>2366</td>\n",
       "      <td>2291</td>\n",
       "      <td>0</td>\n",
       "    </tr>\n",
       "    <tr>\n",
       "      <th>3</th>\n",
       "      <td>230000</td>\n",
       "      <td>1</td>\n",
       "      <td>2</td>\n",
       "      <td>1</td>\n",
       "      <td>41</td>\n",
       "      <td>0</td>\n",
       "      <td>0</td>\n",
       "      <td>0</td>\n",
       "      <td>0</td>\n",
       "      <td>0</td>\n",
       "      <td>...</td>\n",
       "      <td>216260</td>\n",
       "      <td>215968</td>\n",
       "      <td>174195</td>\n",
       "      <td>9405</td>\n",
       "      <td>7769</td>\n",
       "      <td>7757</td>\n",
       "      <td>8030</td>\n",
       "      <td>6549</td>\n",
       "      <td>5226</td>\n",
       "      <td>1</td>\n",
       "    </tr>\n",
       "    <tr>\n",
       "      <th>4</th>\n",
       "      <td>50000</td>\n",
       "      <td>1</td>\n",
       "      <td>2</td>\n",
       "      <td>1</td>\n",
       "      <td>42</td>\n",
       "      <td>0</td>\n",
       "      <td>0</td>\n",
       "      <td>0</td>\n",
       "      <td>0</td>\n",
       "      <td>0</td>\n",
       "      <td>...</td>\n",
       "      <td>31320</td>\n",
       "      <td>36227</td>\n",
       "      <td>35569</td>\n",
       "      <td>2007</td>\n",
       "      <td>2000</td>\n",
       "      <td>1500</td>\n",
       "      <td>5400</td>\n",
       "      <td>0</td>\n",
       "      <td>3000</td>\n",
       "      <td>0</td>\n",
       "    </tr>\n",
       "    <tr>\n",
       "      <th>...</th>\n",
       "      <td>...</td>\n",
       "      <td>...</td>\n",
       "      <td>...</td>\n",
       "      <td>...</td>\n",
       "      <td>...</td>\n",
       "      <td>...</td>\n",
       "      <td>...</td>\n",
       "      <td>...</td>\n",
       "      <td>...</td>\n",
       "      <td>...</td>\n",
       "      <td>...</td>\n",
       "      <td>...</td>\n",
       "      <td>...</td>\n",
       "      <td>...</td>\n",
       "      <td>...</td>\n",
       "      <td>...</td>\n",
       "      <td>...</td>\n",
       "      <td>...</td>\n",
       "      <td>...</td>\n",
       "      <td>...</td>\n",
       "      <td>...</td>\n",
       "    </tr>\n",
       "    <tr>\n",
       "      <th>2960</th>\n",
       "      <td>320000</td>\n",
       "      <td>1</td>\n",
       "      <td>2</td>\n",
       "      <td>1</td>\n",
       "      <td>41</td>\n",
       "      <td>1</td>\n",
       "      <td>-2</td>\n",
       "      <td>-2</td>\n",
       "      <td>-2</td>\n",
       "      <td>-2</td>\n",
       "      <td>...</td>\n",
       "      <td>0</td>\n",
       "      <td>700</td>\n",
       "      <td>860</td>\n",
       "      <td>0</td>\n",
       "      <td>0</td>\n",
       "      <td>0</td>\n",
       "      <td>700</td>\n",
       "      <td>860</td>\n",
       "      <td>2420</td>\n",
       "      <td>1</td>\n",
       "    </tr>\n",
       "    <tr>\n",
       "      <th>2961</th>\n",
       "      <td>20000</td>\n",
       "      <td>1</td>\n",
       "      <td>1</td>\n",
       "      <td>1</td>\n",
       "      <td>39</td>\n",
       "      <td>-1</td>\n",
       "      <td>-1</td>\n",
       "      <td>-1</td>\n",
       "      <td>-1</td>\n",
       "      <td>-1</td>\n",
       "      <td>...</td>\n",
       "      <td>630</td>\n",
       "      <td>664</td>\n",
       "      <td>598</td>\n",
       "      <td>700</td>\n",
       "      <td>600</td>\n",
       "      <td>700</td>\n",
       "      <td>700</td>\n",
       "      <td>600</td>\n",
       "      <td>1400</td>\n",
       "      <td>0</td>\n",
       "    </tr>\n",
       "    <tr>\n",
       "      <th>2962</th>\n",
       "      <td>20000</td>\n",
       "      <td>1</td>\n",
       "      <td>2</td>\n",
       "      <td>2</td>\n",
       "      <td>25</td>\n",
       "      <td>0</td>\n",
       "      <td>0</td>\n",
       "      <td>0</td>\n",
       "      <td>0</td>\n",
       "      <td>0</td>\n",
       "      <td>...</td>\n",
       "      <td>16600</td>\n",
       "      <td>17025</td>\n",
       "      <td>17381</td>\n",
       "      <td>1300</td>\n",
       "      <td>1300</td>\n",
       "      <td>1300</td>\n",
       "      <td>700</td>\n",
       "      <td>630</td>\n",
       "      <td>650</td>\n",
       "      <td>0</td>\n",
       "    </tr>\n",
       "    <tr>\n",
       "      <th>2963</th>\n",
       "      <td>50000</td>\n",
       "      <td>1</td>\n",
       "      <td>2</td>\n",
       "      <td>2</td>\n",
       "      <td>38</td>\n",
       "      <td>0</td>\n",
       "      <td>0</td>\n",
       "      <td>0</td>\n",
       "      <td>0</td>\n",
       "      <td>0</td>\n",
       "      <td>...</td>\n",
       "      <td>17833</td>\n",
       "      <td>18246</td>\n",
       "      <td>18642</td>\n",
       "      <td>1300</td>\n",
       "      <td>1600</td>\n",
       "      <td>650</td>\n",
       "      <td>700</td>\n",
       "      <td>700</td>\n",
       "      <td>700</td>\n",
       "      <td>0</td>\n",
       "    </tr>\n",
       "    <tr>\n",
       "      <th>2964</th>\n",
       "      <td>100000</td>\n",
       "      <td>2</td>\n",
       "      <td>1</td>\n",
       "      <td>2</td>\n",
       "      <td>28</td>\n",
       "      <td>0</td>\n",
       "      <td>0</td>\n",
       "      <td>0</td>\n",
       "      <td>2</td>\n",
       "      <td>0</td>\n",
       "      <td>...</td>\n",
       "      <td>10775</td>\n",
       "      <td>10998</td>\n",
       "      <td>12655</td>\n",
       "      <td>1300</td>\n",
       "      <td>3005</td>\n",
       "      <td>0</td>\n",
       "      <td>700</td>\n",
       "      <td>2000</td>\n",
       "      <td>1500</td>\n",
       "      <td>0</td>\n",
       "    </tr>\n",
       "  </tbody>\n",
       "</table>\n",
       "<p>2964 rows × 24 columns</p>\n",
       "</div>"
      ],
      "text/plain": [
       "      limit_balance  sex  education_level  marital_status  age  pay_1  pay_2  \\\n",
       "0             50000    1                3               3   50      0      0   \n",
       "1            200000    2                3               3   45     -2     -2   \n",
       "2            130000    1                1               1   45      0      0   \n",
       "3            230000    1                2               1   41      0      0   \n",
       "4             50000    1                2               1   42      0      0   \n",
       "...             ...  ...              ...             ...  ...    ...    ...   \n",
       "2960         320000    1                2               1   41      1     -2   \n",
       "2961          20000    1                1               1   39     -1     -1   \n",
       "2962          20000    1                2               2   25      0      0   \n",
       "2963          50000    1                2               2   38      0      0   \n",
       "2964         100000    2                1               2   28      0      0   \n",
       "\n",
       "      pay_3  pay_4  pay_5  ...  bill_amt_4  bill_amt_5  bill_amt_6  pay_amt_1  \\\n",
       "0         0     -1     -1  ...        3400        2769           0       2266   \n",
       "1        -2     -2     -2  ...         399        1396           0       2430   \n",
       "2         0      0      0  ...       62377       63832       65099       2886   \n",
       "3         0      0      0  ...      216260      215968      174195       9405   \n",
       "4         0      0      0  ...       31320       36227       35569       2007   \n",
       "...     ...    ...    ...  ...         ...         ...         ...        ...   \n",
       "2960     -2     -2     -2  ...           0         700         860          0   \n",
       "2961     -1     -1     -1  ...         630         664         598        700   \n",
       "2962      0      0      0  ...       16600       17025       17381       1300   \n",
       "2963      0      0      0  ...       17833       18246       18642       1300   \n",
       "2964      0      2      0  ...       10775       10998       12655       1300   \n",
       "\n",
       "      pay_amt_2  pay_amt_3  pay_amt_4  pay_amt_5  pay_amt_6  payment  \n",
       "0             0       3400       2769       1700          0        0  \n",
       "1             0        399       1396          0          0        0  \n",
       "2          2908       2129       2354       2366       2291        0  \n",
       "3          7769       7757       8030       6549       5226        1  \n",
       "4          2000       1500       5400          0       3000        0  \n",
       "...         ...        ...        ...        ...        ...      ...  \n",
       "2960          0          0        700        860       2420        1  \n",
       "2961        600        700        700        600       1400        0  \n",
       "2962       1300       1300        700        630        650        0  \n",
       "2963       1600        650        700        700        700        0  \n",
       "2964       3005          0        700       2000       1500        0  \n",
       "\n",
       "[2964 rows x 24 columns]"
      ]
     },
     "execution_count": 16,
     "metadata": {},
     "output_type": "execute_result"
    }
   ],
   "source": [
    "data_clean"
   ]
  },
  {
   "cell_type": "markdown",
   "metadata": {},
   "source": [
    "## iv. Exploratory Data Analysis (EDA) Analysis"
   ]
  },
  {
   "cell_type": "markdown",
   "metadata": {},
   "source": [
    "`Selanjutnya memvisualisasi distribusi kelas 0 dan kelas 1 pada kolom target`"
   ]
  },
  {
   "cell_type": "code",
   "execution_count": 79,
   "metadata": {},
   "outputs": [
    {
     "data": {
      "text/plain": [
       "Text(0.5, 1.0, 'Payment Distribution Plot')"
      ]
     },
     "execution_count": 79,
     "metadata": {},
     "output_type": "execute_result"
    },
    {
     "data": {
      "image/png": "[encoded data removed]",
      "text/plain": [
       "<Figure size 432x288 with 1 Axes>"
      ]
     },
     "metadata": {
      "needs_background": "light"
     },
     "output_type": "display_data"
    }
   ],
   "source": [
    "sns.countplot(data=data_clean,x='payment')\n",
    "plt.title('Payment Distribution Plot')"
   ]
  },
  {
   "cell_type": "code",
   "execution_count": 84,
   "metadata": {},
   "outputs": [
    {
     "data": {
      "text/plain": [
       "limit_balance      635\n",
       "sex                635\n",
       "education_level    635\n",
       "marital_status     635\n",
       "age                635\n",
       "pay_1              635\n",
       "pay_2              635\n",
       "pay_3              635\n",
       "pay_4              635\n",
       "pay_5              635\n",
       "pay_6              635\n",
       "bill_amt_1         635\n",
       "bill_amt_2         635\n",
       "bill_amt_3         635\n",
       "bill_amt_4         635\n",
       "bill_amt_5         635\n",
       "bill_amt_6         635\n",
       "pay_amt_1          635\n",
       "pay_amt_2          635\n",
       "pay_amt_3          635\n",
       "pay_amt_4          635\n",
       "pay_amt_5          635\n",
       "pay_amt_6          635\n",
       "payment            635\n",
       "dtype: int64"
      ]
     },
     "execution_count": 84,
     "metadata": {},
     "output_type": "execute_result"
    }
   ],
   "source": [
    "data_clean[data_clean['payment'] == 1].count()"
   ]
  },
  {
   "cell_type": "markdown",
   "metadata": {},
   "source": [
    "`Pada kolom target mempunyai data yang imbalanced dikarenakan kelas 0 dan kelas 1 mempunyai perbandingan yang cukup jauh`"
   ]
  },
  {
   "cell_type": "markdown",
   "metadata": {},
   "source": [
    "`Selanjutnya memvisualisasi persebaran data jenis kelamin pada kolom target`"
   ]
  },
  {
   "cell_type": "code",
   "execution_count": 18,
   "metadata": {},
   "outputs": [
    {
     "data": {
      "text/plain": [
       "<AxesSubplot:xlabel='payment', ylabel='count'>"
      ]
     },
     "execution_count": 18,
     "metadata": {},
     "output_type": "execute_result"
    },
    {
     "data": {
      "text/plain": [
       "<Figure size 576x288 with 0 Axes>"
      ]
     },
     "metadata": {},
     "output_type": "display_data"
    },
    {
     "data": {
      "image/png": "[encoded data removed]",
      "text/plain": [
       "<Figure size 576x288 with 1 Axes>"
      ]
     },
     "metadata": {
      "needs_background": "light"
     },
     "output_type": "display_data"
    }
   ],
   "source": [
    "plt.figure(figsize=(8,4))\n",
    "fig, axes = plt.subplots(figsize=(8,4))\n",
    "sns.countplot(x = 'payment', hue = 'sex', data = data_clean)"
   ]
  },
  {
   "cell_type": "markdown",
   "metadata": {},
   "source": [
    "`Jenis kelamin perempuan paling banyak disetiap kelas payment yaitu 0 maupun 1`"
   ]
  },
  {
   "cell_type": "markdown",
   "metadata": {},
   "source": [
    "`Selanjutnya memvisualisasi persebaran data education level pada kolom target`"
   ]
  },
  {
   "cell_type": "code",
   "execution_count": 19,
   "metadata": {},
   "outputs": [
    {
     "data": {
      "text/plain": [
       "<AxesSubplot:xlabel='payment', ylabel='count'>"
      ]
     },
     "execution_count": 19,
     "metadata": {},
     "output_type": "execute_result"
    },
    {
     "data": {
      "text/plain": [
       "<Figure size 576x288 with 0 Axes>"
      ]
     },
     "metadata": {},
     "output_type": "display_data"
    },
    {
     "data": {
      "image/png": "[encoded data removed]",
      "text/plain": [
       "<Figure size 576x288 with 1 Axes>"
      ]
     },
     "metadata": {
      "needs_background": "light"
     },
     "output_type": "display_data"
    }
   ],
   "source": [
    "plt.figure(figsize=(8,4))\n",
    "fig, axes = plt.subplots(figsize=(8,4))\n",
    "sns.countplot(x = 'payment', hue = 'education_level', data = data_clean)"
   ]
  },
  {
   "cell_type": "markdown",
   "metadata": {},
   "source": [
    "`Education level yang paling banyak di setiap kelas payment adalah university, sedangkan yang paling sedikit di kedua kelas adalah others atau unknown` "
   ]
  },
  {
   "cell_type": "markdown",
   "metadata": {},
   "source": [
    "`Selanjutnya memvisualisai persebaran data maritral status pada kolom target`"
   ]
  },
  {
   "cell_type": "code",
   "execution_count": 20,
   "metadata": {},
   "outputs": [
    {
     "data": {
      "text/plain": [
       "<AxesSubplot:xlabel='payment', ylabel='count'>"
      ]
     },
     "execution_count": 20,
     "metadata": {},
     "output_type": "execute_result"
    },
    {
     "data": {
      "text/plain": [
       "<Figure size 576x288 with 0 Axes>"
      ]
     },
     "metadata": {},
     "output_type": "display_data"
    },
    {
     "data": {
      "image/png": "[encoded data removed]",
      "text/plain": [
       "<Figure size 576x288 with 1 Axes>"
      ]
     },
     "metadata": {
      "needs_background": "light"
     },
     "output_type": "display_data"
    }
   ],
   "source": [
    "plt.figure(figsize=(8,4))\n",
    "fig, axes = plt.subplots(figsize=(8,4))\n",
    "sns.countplot(x = 'payment', hue = 'marital_status', data = data_clean)"
   ]
  },
  {
   "cell_type": "markdown",
   "metadata": {},
   "source": [
    "`Marital status yang paling banyak di setiap kelas payment adalah single, sedangkan yang paling sedikit di kedua kelas adalah others` "
   ]
  },
  {
   "cell_type": "code",
   "execution_count": 21,
   "metadata": {},
   "outputs": [
    {
     "data": {
      "image/png": "[encoded data removed]",
      "text/plain": [
       "<Figure size 521.375x432 with 1 Axes>"
      ]
     },
     "metadata": {
      "needs_background": "light"
     },
     "output_type": "display_data"
    }
   ],
   "source": [
    "fg=sns.FacetGrid(data_clean, hue=\"payment\", height=6,)\n",
    "fg.map(sns.kdeplot, \"age\",shade=True).add_legend(labels=[\"No Default\",\"Default\"])\n",
    "plt.title('Age Distribution Plot');\n",
    "plt.show()"
   ]
  },
  {
   "cell_type": "markdown",
   "metadata": {},
   "source": [
    "### Split"
   ]
  },
  {
   "cell_type": "markdown",
   "metadata": {},
   "source": [
    "`Sebelum data displit, diambil terlebih dahulu 2 baris data acak untuk data inference`"
   ]
  },
  {
   "cell_type": "code",
   "execution_count": 22,
   "metadata": {},
   "outputs": [
    {
     "data": {
      "text/html": [
       "<div>\n",
       "<style scoped>\n",
       "    .dataframe tbody tr th:only-of-type {\n",
       "        vertical-align: middle;\n",
       "    }\n",
       "\n",
       "    .dataframe tbody tr th {\n",
       "        vertical-align: top;\n",
       "    }\n",
       "\n",
       "    .dataframe thead th {\n",
       "        text-align: right;\n",
       "    }\n",
       "</style>\n",
       "<table border=\"1\" class=\"dataframe\">\n",
       "  <thead>\n",
       "    <tr style=\"text-align: right;\">\n",
       "      <th></th>\n",
       "      <th>limit_balance</th>\n",
       "      <th>sex</th>\n",
       "      <th>education_level</th>\n",
       "      <th>marital_status</th>\n",
       "      <th>age</th>\n",
       "      <th>pay_1</th>\n",
       "      <th>pay_2</th>\n",
       "      <th>pay_3</th>\n",
       "      <th>pay_4</th>\n",
       "      <th>pay_5</th>\n",
       "      <th>...</th>\n",
       "      <th>bill_amt_4</th>\n",
       "      <th>bill_amt_5</th>\n",
       "      <th>bill_amt_6</th>\n",
       "      <th>pay_amt_1</th>\n",
       "      <th>pay_amt_2</th>\n",
       "      <th>pay_amt_3</th>\n",
       "      <th>pay_amt_4</th>\n",
       "      <th>pay_amt_5</th>\n",
       "      <th>pay_amt_6</th>\n",
       "      <th>payment</th>\n",
       "    </tr>\n",
       "  </thead>\n",
       "  <tbody>\n",
       "    <tr>\n",
       "      <th>1766</th>\n",
       "      <td>180000</td>\n",
       "      <td>2</td>\n",
       "      <td>1</td>\n",
       "      <td>1</td>\n",
       "      <td>38</td>\n",
       "      <td>-2</td>\n",
       "      <td>-2</td>\n",
       "      <td>-2</td>\n",
       "      <td>-2</td>\n",
       "      <td>-2</td>\n",
       "      <td>...</td>\n",
       "      <td>0</td>\n",
       "      <td>0</td>\n",
       "      <td>0</td>\n",
       "      <td>0</td>\n",
       "      <td>0</td>\n",
       "      <td>0</td>\n",
       "      <td>0</td>\n",
       "      <td>0</td>\n",
       "      <td>0</td>\n",
       "      <td>0</td>\n",
       "    </tr>\n",
       "    <tr>\n",
       "      <th>525</th>\n",
       "      <td>200000</td>\n",
       "      <td>2</td>\n",
       "      <td>2</td>\n",
       "      <td>1</td>\n",
       "      <td>27</td>\n",
       "      <td>1</td>\n",
       "      <td>3</td>\n",
       "      <td>2</td>\n",
       "      <td>2</td>\n",
       "      <td>2</td>\n",
       "      <td>...</td>\n",
       "      <td>174547</td>\n",
       "      <td>181454</td>\n",
       "      <td>177141</td>\n",
       "      <td>5200</td>\n",
       "      <td>7000</td>\n",
       "      <td>0</td>\n",
       "      <td>13300</td>\n",
       "      <td>0</td>\n",
       "      <td>6200</td>\n",
       "      <td>1</td>\n",
       "    </tr>\n",
       "  </tbody>\n",
       "</table>\n",
       "<p>2 rows × 24 columns</p>\n",
       "</div>"
      ],
      "text/plain": [
       "      limit_balance  sex  education_level  marital_status  age  pay_1  pay_2  \\\n",
       "1766         180000    2                1               1   38     -2     -2   \n",
       "525          200000    2                2               1   27      1      3   \n",
       "\n",
       "      pay_3  pay_4  pay_5  ...  bill_amt_4  bill_amt_5  bill_amt_6  pay_amt_1  \\\n",
       "1766     -2     -2     -2  ...           0           0           0          0   \n",
       "525       2      2      2  ...      174547      181454      177141       5200   \n",
       "\n",
       "      pay_amt_2  pay_amt_3  pay_amt_4  pay_amt_5  pay_amt_6  payment  \n",
       "1766          0          0          0          0          0        0  \n",
       "525        7000          0      13300          0       6200        1  \n",
       "\n",
       "[2 rows x 24 columns]"
      ]
     },
     "execution_count": 22,
     "metadata": {},
     "output_type": "execute_result"
    }
   ],
   "source": [
    "df_inf = data_clean.sample(2, random_state=1)\n",
    "df_inf"
   ]
  },
  {
   "cell_type": "markdown",
   "metadata": {},
   "source": [
    "`Selanjutnya, dipisahkan terlebih dahulu data frame yang ingin digunakan dengan data inferencenya. Agar tidak terjadinya kebocoran atau leaking pada data inference.` "
   ]
  },
  {
   "cell_type": "code",
   "execution_count": 23,
   "metadata": {},
   "outputs": [
    {
     "data": {
      "text/html": [
       "<div>\n",
       "<style scoped>\n",
       "    .dataframe tbody tr th:only-of-type {\n",
       "        vertical-align: middle;\n",
       "    }\n",
       "\n",
       "    .dataframe tbody tr th {\n",
       "        vertical-align: top;\n",
       "    }\n",
       "\n",
       "    .dataframe thead th {\n",
       "        text-align: right;\n",
       "    }\n",
       "</style>\n",
       "<table border=\"1\" class=\"dataframe\">\n",
       "  <thead>\n",
       "    <tr style=\"text-align: right;\">\n",
       "      <th></th>\n",
       "      <th>limit_balance</th>\n",
       "      <th>sex</th>\n",
       "      <th>education_level</th>\n",
       "      <th>marital_status</th>\n",
       "      <th>age</th>\n",
       "      <th>pay_1</th>\n",
       "      <th>pay_2</th>\n",
       "      <th>pay_3</th>\n",
       "      <th>pay_4</th>\n",
       "      <th>pay_5</th>\n",
       "      <th>...</th>\n",
       "      <th>bill_amt_4</th>\n",
       "      <th>bill_amt_5</th>\n",
       "      <th>bill_amt_6</th>\n",
       "      <th>pay_amt_1</th>\n",
       "      <th>pay_amt_2</th>\n",
       "      <th>pay_amt_3</th>\n",
       "      <th>pay_amt_4</th>\n",
       "      <th>pay_amt_5</th>\n",
       "      <th>pay_amt_6</th>\n",
       "      <th>payment</th>\n",
       "    </tr>\n",
       "  </thead>\n",
       "  <tbody>\n",
       "    <tr>\n",
       "      <th>0</th>\n",
       "      <td>50000</td>\n",
       "      <td>1</td>\n",
       "      <td>3</td>\n",
       "      <td>3</td>\n",
       "      <td>50</td>\n",
       "      <td>0</td>\n",
       "      <td>0</td>\n",
       "      <td>0</td>\n",
       "      <td>-1</td>\n",
       "      <td>-1</td>\n",
       "      <td>...</td>\n",
       "      <td>3400</td>\n",
       "      <td>2769</td>\n",
       "      <td>0</td>\n",
       "      <td>2266</td>\n",
       "      <td>0</td>\n",
       "      <td>3400</td>\n",
       "      <td>2769</td>\n",
       "      <td>1700</td>\n",
       "      <td>0</td>\n",
       "      <td>0</td>\n",
       "    </tr>\n",
       "    <tr>\n",
       "      <th>1</th>\n",
       "      <td>200000</td>\n",
       "      <td>2</td>\n",
       "      <td>3</td>\n",
       "      <td>3</td>\n",
       "      <td>45</td>\n",
       "      <td>-2</td>\n",
       "      <td>-2</td>\n",
       "      <td>-2</td>\n",
       "      <td>-2</td>\n",
       "      <td>-2</td>\n",
       "      <td>...</td>\n",
       "      <td>399</td>\n",
       "      <td>1396</td>\n",
       "      <td>0</td>\n",
       "      <td>2430</td>\n",
       "      <td>0</td>\n",
       "      <td>399</td>\n",
       "      <td>1396</td>\n",
       "      <td>0</td>\n",
       "      <td>0</td>\n",
       "      <td>0</td>\n",
       "    </tr>\n",
       "    <tr>\n",
       "      <th>2</th>\n",
       "      <td>130000</td>\n",
       "      <td>1</td>\n",
       "      <td>1</td>\n",
       "      <td>1</td>\n",
       "      <td>45</td>\n",
       "      <td>0</td>\n",
       "      <td>0</td>\n",
       "      <td>0</td>\n",
       "      <td>0</td>\n",
       "      <td>0</td>\n",
       "      <td>...</td>\n",
       "      <td>62377</td>\n",
       "      <td>63832</td>\n",
       "      <td>65099</td>\n",
       "      <td>2886</td>\n",
       "      <td>2908</td>\n",
       "      <td>2129</td>\n",
       "      <td>2354</td>\n",
       "      <td>2366</td>\n",
       "      <td>2291</td>\n",
       "      <td>0</td>\n",
       "    </tr>\n",
       "    <tr>\n",
       "      <th>3</th>\n",
       "      <td>230000</td>\n",
       "      <td>1</td>\n",
       "      <td>2</td>\n",
       "      <td>1</td>\n",
       "      <td>41</td>\n",
       "      <td>0</td>\n",
       "      <td>0</td>\n",
       "      <td>0</td>\n",
       "      <td>0</td>\n",
       "      <td>0</td>\n",
       "      <td>...</td>\n",
       "      <td>216260</td>\n",
       "      <td>215968</td>\n",
       "      <td>174195</td>\n",
       "      <td>9405</td>\n",
       "      <td>7769</td>\n",
       "      <td>7757</td>\n",
       "      <td>8030</td>\n",
       "      <td>6549</td>\n",
       "      <td>5226</td>\n",
       "      <td>1</td>\n",
       "    </tr>\n",
       "    <tr>\n",
       "      <th>4</th>\n",
       "      <td>50000</td>\n",
       "      <td>1</td>\n",
       "      <td>2</td>\n",
       "      <td>1</td>\n",
       "      <td>42</td>\n",
       "      <td>0</td>\n",
       "      <td>0</td>\n",
       "      <td>0</td>\n",
       "      <td>0</td>\n",
       "      <td>0</td>\n",
       "      <td>...</td>\n",
       "      <td>31320</td>\n",
       "      <td>36227</td>\n",
       "      <td>35569</td>\n",
       "      <td>2007</td>\n",
       "      <td>2000</td>\n",
       "      <td>1500</td>\n",
       "      <td>5400</td>\n",
       "      <td>0</td>\n",
       "      <td>3000</td>\n",
       "      <td>0</td>\n",
       "    </tr>\n",
       "    <tr>\n",
       "      <th>...</th>\n",
       "      <td>...</td>\n",
       "      <td>...</td>\n",
       "      <td>...</td>\n",
       "      <td>...</td>\n",
       "      <td>...</td>\n",
       "      <td>...</td>\n",
       "      <td>...</td>\n",
       "      <td>...</td>\n",
       "      <td>...</td>\n",
       "      <td>...</td>\n",
       "      <td>...</td>\n",
       "      <td>...</td>\n",
       "      <td>...</td>\n",
       "      <td>...</td>\n",
       "      <td>...</td>\n",
       "      <td>...</td>\n",
       "      <td>...</td>\n",
       "      <td>...</td>\n",
       "      <td>...</td>\n",
       "      <td>...</td>\n",
       "      <td>...</td>\n",
       "    </tr>\n",
       "    <tr>\n",
       "      <th>2960</th>\n",
       "      <td>320000</td>\n",
       "      <td>1</td>\n",
       "      <td>2</td>\n",
       "      <td>1</td>\n",
       "      <td>41</td>\n",
       "      <td>1</td>\n",
       "      <td>-2</td>\n",
       "      <td>-2</td>\n",
       "      <td>-2</td>\n",
       "      <td>-2</td>\n",
       "      <td>...</td>\n",
       "      <td>0</td>\n",
       "      <td>700</td>\n",
       "      <td>860</td>\n",
       "      <td>0</td>\n",
       "      <td>0</td>\n",
       "      <td>0</td>\n",
       "      <td>700</td>\n",
       "      <td>860</td>\n",
       "      <td>2420</td>\n",
       "      <td>1</td>\n",
       "    </tr>\n",
       "    <tr>\n",
       "      <th>2961</th>\n",
       "      <td>20000</td>\n",
       "      <td>1</td>\n",
       "      <td>1</td>\n",
       "      <td>1</td>\n",
       "      <td>39</td>\n",
       "      <td>-1</td>\n",
       "      <td>-1</td>\n",
       "      <td>-1</td>\n",
       "      <td>-1</td>\n",
       "      <td>-1</td>\n",
       "      <td>...</td>\n",
       "      <td>630</td>\n",
       "      <td>664</td>\n",
       "      <td>598</td>\n",
       "      <td>700</td>\n",
       "      <td>600</td>\n",
       "      <td>700</td>\n",
       "      <td>700</td>\n",
       "      <td>600</td>\n",
       "      <td>1400</td>\n",
       "      <td>0</td>\n",
       "    </tr>\n",
       "    <tr>\n",
       "      <th>2962</th>\n",
       "      <td>20000</td>\n",
       "      <td>1</td>\n",
       "      <td>2</td>\n",
       "      <td>2</td>\n",
       "      <td>25</td>\n",
       "      <td>0</td>\n",
       "      <td>0</td>\n",
       "      <td>0</td>\n",
       "      <td>0</td>\n",
       "      <td>0</td>\n",
       "      <td>...</td>\n",
       "      <td>16600</td>\n",
       "      <td>17025</td>\n",
       "      <td>17381</td>\n",
       "      <td>1300</td>\n",
       "      <td>1300</td>\n",
       "      <td>1300</td>\n",
       "      <td>700</td>\n",
       "      <td>630</td>\n",
       "      <td>650</td>\n",
       "      <td>0</td>\n",
       "    </tr>\n",
       "    <tr>\n",
       "      <th>2963</th>\n",
       "      <td>50000</td>\n",
       "      <td>1</td>\n",
       "      <td>2</td>\n",
       "      <td>2</td>\n",
       "      <td>38</td>\n",
       "      <td>0</td>\n",
       "      <td>0</td>\n",
       "      <td>0</td>\n",
       "      <td>0</td>\n",
       "      <td>0</td>\n",
       "      <td>...</td>\n",
       "      <td>17833</td>\n",
       "      <td>18246</td>\n",
       "      <td>18642</td>\n",
       "      <td>1300</td>\n",
       "      <td>1600</td>\n",
       "      <td>650</td>\n",
       "      <td>700</td>\n",
       "      <td>700</td>\n",
       "      <td>700</td>\n",
       "      <td>0</td>\n",
       "    </tr>\n",
       "    <tr>\n",
       "      <th>2964</th>\n",
       "      <td>100000</td>\n",
       "      <td>2</td>\n",
       "      <td>1</td>\n",
       "      <td>2</td>\n",
       "      <td>28</td>\n",
       "      <td>0</td>\n",
       "      <td>0</td>\n",
       "      <td>0</td>\n",
       "      <td>2</td>\n",
       "      <td>0</td>\n",
       "      <td>...</td>\n",
       "      <td>10775</td>\n",
       "      <td>10998</td>\n",
       "      <td>12655</td>\n",
       "      <td>1300</td>\n",
       "      <td>3005</td>\n",
       "      <td>0</td>\n",
       "      <td>700</td>\n",
       "      <td>2000</td>\n",
       "      <td>1500</td>\n",
       "      <td>0</td>\n",
       "    </tr>\n",
       "  </tbody>\n",
       "</table>\n",
       "<p>2962 rows × 24 columns</p>\n",
       "</div>"
      ],
      "text/plain": [
       "      limit_balance  sex  education_level  marital_status  age  pay_1  pay_2  \\\n",
       "0             50000    1                3               3   50      0      0   \n",
       "1            200000    2                3               3   45     -2     -2   \n",
       "2            130000    1                1               1   45      0      0   \n",
       "3            230000    1                2               1   41      0      0   \n",
       "4             50000    1                2               1   42      0      0   \n",
       "...             ...  ...              ...             ...  ...    ...    ...   \n",
       "2960         320000    1                2               1   41      1     -2   \n",
       "2961          20000    1                1               1   39     -1     -1   \n",
       "2962          20000    1                2               2   25      0      0   \n",
       "2963          50000    1                2               2   38      0      0   \n",
       "2964         100000    2                1               2   28      0      0   \n",
       "\n",
       "      pay_3  pay_4  pay_5  ...  bill_amt_4  bill_amt_5  bill_amt_6  pay_amt_1  \\\n",
       "0         0     -1     -1  ...        3400        2769           0       2266   \n",
       "1        -2     -2     -2  ...         399        1396           0       2430   \n",
       "2         0      0      0  ...       62377       63832       65099       2886   \n",
       "3         0      0      0  ...      216260      215968      174195       9405   \n",
       "4         0      0      0  ...       31320       36227       35569       2007   \n",
       "...     ...    ...    ...  ...         ...         ...         ...        ...   \n",
       "2960     -2     -2     -2  ...           0         700         860          0   \n",
       "2961     -1     -1     -1  ...         630         664         598        700   \n",
       "2962      0      0      0  ...       16600       17025       17381       1300   \n",
       "2963      0      0      0  ...       17833       18246       18642       1300   \n",
       "2964      0      2      0  ...       10775       10998       12655       1300   \n",
       "\n",
       "      pay_amt_2  pay_amt_3  pay_amt_4  pay_amt_5  pay_amt_6  payment  \n",
       "0             0       3400       2769       1700          0        0  \n",
       "1             0        399       1396          0          0        0  \n",
       "2          2908       2129       2354       2366       2291        0  \n",
       "3          7769       7757       8030       6549       5226        1  \n",
       "4          2000       1500       5400          0       3000        0  \n",
       "...         ...        ...        ...        ...        ...      ...  \n",
       "2960          0          0        700        860       2420        1  \n",
       "2961        600        700        700        600       1400        0  \n",
       "2962       1300       1300        700        630        650        0  \n",
       "2963       1600        650        700        700        700        0  \n",
       "2964       3005          0        700       2000       1500        0  \n",
       "\n",
       "[2962 rows x 24 columns]"
      ]
     },
     "execution_count": 23,
     "metadata": {},
     "output_type": "execute_result"
    }
   ],
   "source": [
    "df = data_clean.drop(df_inf.index)\n",
    "df"
   ]
  },
  {
   "cell_type": "markdown",
   "metadata": {},
   "source": [
    "`Lalu, Data dibagi menjadi 2, x untuk feature dan y untuk target atau kolom payment. Setelah data x dan y yang sudah didefinisikan, maka selanjutnya data tersebut displit menjadi 2 yaitu data train sebanyak 80% dan data test sebanyak 20%`"
   ]
  },
  {
   "cell_type": "code",
   "execution_count": 24,
   "metadata": {},
   "outputs": [],
   "source": [
    "X = df.drop('payment', axis=1)\n",
    "y = df['payment']\n",
    "\n",
    "X_train, X_test, y_train, y_test = train_test_split(X, y, train_size=0.8,stratify=y, random_state=49)"
   ]
  },
  {
   "cell_type": "code",
   "execution_count": 25,
   "metadata": {},
   "outputs": [
    {
     "name": "stdout",
     "output_type": "stream",
     "text": [
      "(2369, 23)\n",
      "(593, 23)\n",
      "(2369,)\n",
      "(593,)\n"
     ]
    }
   ],
   "source": [
    "for i in [X_train, X_test, y_train, y_test]:\n",
    "    print(i.shape)"
   ]
  },
  {
   "cell_type": "markdown",
   "metadata": {},
   "source": [
    "`Dilihat dari bentuk datanya, data yg sudah displit sudah mempunyai baris yang sama di data x train dan y train, begitu juga dengan x test dan y test.`"
   ]
  },
  {
   "cell_type": "code",
   "execution_count": 26,
   "metadata": {},
   "outputs": [
    {
     "data": {
      "text/plain": [
       "(2369, 24)"
      ]
     },
     "execution_count": 26,
     "metadata": {},
     "output_type": "execute_result"
    }
   ],
   "source": [
    "df_eda = pd.concat([X_train, y_train], axis=1)\n",
    "\n",
    "df_eda.shape"
   ]
  },
  {
   "cell_type": "markdown",
   "metadata": {},
   "source": [
    "`Lalu digabung data x train atau fitur dengan y train atau target untuk digunakan pelatihan model` "
   ]
  },
  {
   "cell_type": "markdown",
   "metadata": {},
   "source": [
    "### Exploratory Data Analysis (EDA) Modeling"
   ]
  },
  {
   "cell_type": "markdown",
   "metadata": {},
   "source": [
    "`Selanjutnya mencari banyak unique value di masing masing kolom`"
   ]
  },
  {
   "cell_type": "code",
   "execution_count": 27,
   "metadata": {},
   "outputs": [
    {
     "name": "stdout",
     "output_type": "stream",
     "text": [
      "num of unique label in limit_balance:  58\n",
      "num of unique label in sex:  2\n",
      "num of unique label in education_level:  4\n",
      "num of unique label in marital_status:  3\n",
      "num of unique label in age:  48\n",
      "num of unique label in pay_1:  10\n",
      "num of unique label in pay_2:  10\n",
      "num of unique label in pay_3:  9\n",
      "num of unique label in pay_4:  8\n",
      "num of unique label in pay_5:  8\n",
      "num of unique label in pay_6:  7\n",
      "num of unique label in bill_amt_1:  2117\n",
      "num of unique label in bill_amt_2:  2078\n",
      "num of unique label in bill_amt_3:  2053\n",
      "num of unique label in bill_amt_4:  2011\n",
      "num of unique label in bill_amt_5:  1990\n",
      "num of unique label in bill_amt_6:  1964\n",
      "num of unique label in pay_amt_1:  1167\n",
      "num of unique label in pay_amt_2:  1128\n",
      "num of unique label in pay_amt_3:  1060\n",
      "num of unique label in pay_amt_4:  993\n",
      "num of unique label in pay_amt_5:  966\n",
      "num of unique label in pay_amt_6:  958\n",
      "num of unique label in payment:  2\n"
     ]
    }
   ],
   "source": [
    "for i in df_eda.columns.tolist():\n",
    "    print(f'num of unique label in {i}: ', len(df_eda[i].unique()))"
   ]
  },
  {
   "cell_type": "markdown",
   "metadata": {},
   "source": [
    "`Dilihat dari jumlah unique value di masing masing kolomnya, yang mempunyai unique value dibawah atau sama dengan 10 merupakan kolom kategorikal sedangkan yang lebih dari 10 merupakan kolom numerikal.`"
   ]
  },
  {
   "cell_type": "code",
   "execution_count": 28,
   "metadata": {},
   "outputs": [],
   "source": [
    "cat_col = ['sex','education_level','marital_status','pay_1','pay_2','pay_3','pay_4','pay_5','pay_6','payment']\n",
    "num_col = ['limit_balance','age','bill_amt_1','bill_amt_2','bill_amt_3','bill_amt_4','bill_amt_5','bill_amt_6','pay_amt_1','pay_amt_2','pay_amt_3'\n",
    "            ,'pay_amt_4','pay_amt_5','pay_amt_6']"
   ]
  },
  {
   "cell_type": "markdown",
   "metadata": {},
   "source": [
    "### Categorical Features"
   ]
  },
  {
   "cell_type": "code",
   "execution_count": 29,
   "metadata": {},
   "outputs": [
    {
     "data": {
      "text/html": [
       "<div>\n",
       "<style scoped>\n",
       "    .dataframe tbody tr th:only-of-type {\n",
       "        vertical-align: middle;\n",
       "    }\n",
       "\n",
       "    .dataframe tbody tr th {\n",
       "        vertical-align: top;\n",
       "    }\n",
       "\n",
       "    .dataframe thead th {\n",
       "        text-align: right;\n",
       "    }\n",
       "</style>\n",
       "<table border=\"1\" class=\"dataframe\">\n",
       "  <thead>\n",
       "    <tr style=\"text-align: right;\">\n",
       "      <th></th>\n",
       "      <th>sex</th>\n",
       "      <th>education_level</th>\n",
       "      <th>marital_status</th>\n",
       "      <th>pay_1</th>\n",
       "      <th>pay_2</th>\n",
       "      <th>pay_3</th>\n",
       "      <th>pay_4</th>\n",
       "      <th>pay_5</th>\n",
       "      <th>pay_6</th>\n",
       "      <th>payment</th>\n",
       "    </tr>\n",
       "  </thead>\n",
       "  <tbody>\n",
       "    <tr>\n",
       "      <th>2316</th>\n",
       "      <td>2</td>\n",
       "      <td>3</td>\n",
       "      <td>2</td>\n",
       "      <td>0</td>\n",
       "      <td>0</td>\n",
       "      <td>2</td>\n",
       "      <td>0</td>\n",
       "      <td>0</td>\n",
       "      <td>0</td>\n",
       "      <td>0</td>\n",
       "    </tr>\n",
       "    <tr>\n",
       "      <th>1212</th>\n",
       "      <td>1</td>\n",
       "      <td>3</td>\n",
       "      <td>2</td>\n",
       "      <td>1</td>\n",
       "      <td>2</td>\n",
       "      <td>2</td>\n",
       "      <td>2</td>\n",
       "      <td>0</td>\n",
       "      <td>0</td>\n",
       "      <td>1</td>\n",
       "    </tr>\n",
       "    <tr>\n",
       "      <th>51</th>\n",
       "      <td>1</td>\n",
       "      <td>2</td>\n",
       "      <td>1</td>\n",
       "      <td>0</td>\n",
       "      <td>0</td>\n",
       "      <td>0</td>\n",
       "      <td>0</td>\n",
       "      <td>0</td>\n",
       "      <td>-2</td>\n",
       "      <td>0</td>\n",
       "    </tr>\n",
       "    <tr>\n",
       "      <th>2273</th>\n",
       "      <td>2</td>\n",
       "      <td>2</td>\n",
       "      <td>1</td>\n",
       "      <td>3</td>\n",
       "      <td>3</td>\n",
       "      <td>3</td>\n",
       "      <td>2</td>\n",
       "      <td>0</td>\n",
       "      <td>0</td>\n",
       "      <td>1</td>\n",
       "    </tr>\n",
       "    <tr>\n",
       "      <th>650</th>\n",
       "      <td>2</td>\n",
       "      <td>2</td>\n",
       "      <td>1</td>\n",
       "      <td>-1</td>\n",
       "      <td>-1</td>\n",
       "      <td>0</td>\n",
       "      <td>0</td>\n",
       "      <td>-1</td>\n",
       "      <td>-1</td>\n",
       "      <td>0</td>\n",
       "    </tr>\n",
       "  </tbody>\n",
       "</table>\n",
       "</div>"
      ],
      "text/plain": [
       "      sex  education_level  marital_status  pay_1  pay_2  pay_3  pay_4  pay_5  \\\n",
       "2316    2                3               2      0      0      2      0      0   \n",
       "1212    1                3               2      1      2      2      2      0   \n",
       "51      1                2               1      0      0      0      0      0   \n",
       "2273    2                2               1      3      3      3      2      0   \n",
       "650     2                2               1     -1     -1      0      0     -1   \n",
       "\n",
       "      pay_6  payment  \n",
       "2316      0        0  \n",
       "1212      0        1  \n",
       "51       -2        0  \n",
       "2273      0        1  \n",
       "650      -1        0  "
      ]
     },
     "execution_count": 29,
     "metadata": {},
     "output_type": "execute_result"
    }
   ],
   "source": [
    "df_cat = df_eda[cat_col]\n",
    "df_cat.head()"
   ]
  },
  {
   "cell_type": "markdown",
   "metadata": {},
   "source": [
    "`Selanjutnya mencari banyak unique value di masing masing kolom`"
   ]
  },
  {
   "cell_type": "code",
   "execution_count": 30,
   "metadata": {},
   "outputs": [
    {
     "name": "stdout",
     "output_type": "stream",
     "text": [
      "sex \n",
      "\n",
      "2    1447\n",
      "1     922\n",
      "Name: sex, dtype: int64\n",
      "------------------------------\n",
      "education_level \n",
      "\n",
      "2    1113\n",
      "1     828\n",
      "3     390\n",
      "4      38\n",
      "Name: education_level, dtype: int64\n",
      "------------------------------\n",
      "marital_status \n",
      "\n",
      "2    1265\n",
      "1    1072\n",
      "3      32\n",
      "Name: marital_status, dtype: int64\n",
      "------------------------------\n",
      "pay_1 \n",
      "\n",
      " 0    1211\n",
      "-1     427\n",
      " 1     290\n",
      " 2     206\n",
      "-2     202\n",
      " 3      27\n",
      " 4       2\n",
      " 7       2\n",
      " 6       1\n",
      " 8       1\n",
      "Name: pay_1, dtype: int64\n",
      "------------------------------\n",
      "pay_2 \n",
      "\n",
      " 0    1283\n",
      "-1     459\n",
      " 2     303\n",
      "-2     290\n",
      " 3      22\n",
      " 4       4\n",
      " 1       4\n",
      " 6       2\n",
      " 5       1\n",
      " 7       1\n",
      "Name: pay_2, dtype: int64\n",
      "------------------------------\n",
      "pay_3 \n",
      "\n",
      " 0    1293\n",
      "-1     461\n",
      "-2     295\n",
      " 2     293\n",
      " 3      17\n",
      " 7       3\n",
      " 4       3\n",
      " 5       3\n",
      " 6       1\n",
      "Name: pay_3, dtype: int64\n",
      "------------------------------\n",
      "pay_4 \n",
      "\n",
      " 0    1338\n",
      "-1     416\n",
      "-2     329\n",
      " 2     266\n",
      " 3       7\n",
      " 7       5\n",
      " 4       5\n",
      " 5       3\n",
      "Name: pay_4, dtype: int64\n",
      "------------------------------\n",
      "pay_5 \n",
      "\n",
      " 0    1370\n",
      "-1     396\n",
      "-2     357\n",
      " 2     218\n",
      " 3      17\n",
      " 7       5\n",
      " 4       5\n",
      " 5       1\n",
      "Name: pay_5, dtype: int64\n",
      "------------------------------\n",
      "pay_6 \n",
      "\n",
      " 0    1298\n",
      "-1     425\n",
      "-2     389\n",
      " 2     235\n",
      " 3      15\n",
      " 7       5\n",
      " 4       2\n",
      "Name: pay_6, dtype: int64\n",
      "------------------------------\n",
      "payment \n",
      "\n",
      "0    1862\n",
      "1     507\n",
      "Name: payment, dtype: int64\n",
      "------------------------------\n"
     ]
    }
   ],
   "source": [
    "for i in df_cat.columns.tolist():\n",
    "    print(i, '\\n')\n",
    "    print(df_cat[i].value_counts())\n",
    "    print('-'*30)"
   ]
  },
  {
   "cell_type": "markdown",
   "metadata": {},
   "source": [
    "`Setelah dipastikan tidak ada unique value yang misleading, selanjutnya mencari korelasi antara calon fitur kolom kategorikal dengan target`"
   ]
  },
  {
   "cell_type": "markdown",
   "metadata": {},
   "source": [
    "#### Heatmap for categorical "
   ]
  },
  {
   "cell_type": "code",
   "execution_count": 31,
   "metadata": {},
   "outputs": [
    {
     "data": {
      "image/png": "[encoded data removed]",
      "text/plain": [
       "<Figure size 1440x720 with 2 Axes>"
      ]
     },
     "metadata": {
      "needs_background": "light"
     },
     "output_type": "display_data"
    }
   ],
   "source": [
    "fig,ax = plt.subplots(figsize=[20,10])\n",
    "\n",
    "corr = df_cat.corr()\n",
    "\n",
    "ax = sns.heatmap(corr,annot=True)\n",
    "plt.show()"
   ]
  },
  {
   "cell_type": "markdown",
   "metadata": {},
   "source": [
    "`Pada fitur kolom kategorikal yang dipilih adalah pay_1,pay_2,pay_3,pay_4,pay_5,pay_6. Dikarenakan nilai korelasinya dengan target atau payment cukup tinggi dibanding yang lain yaitu masih diatas 0,1. Sehingga sisanya tidak dipakai menjadi fitur model`"
   ]
  },
  {
   "cell_type": "markdown",
   "metadata": {},
   "source": [
    "`Setelah ditentukan fitur kolom kategorikal apa saja yang dipakai, selanjutnya memeriksa multikolinearitas antar kolom tersebut tinggi ataukah rendah, dikarenakan dilihat dari nama kolom dan unique hanya berbeda sedikit saja, sehingga perlu  dipastikan apakah antar kolom tersebut saling berhubungan atau tidak`"
   ]
  },
  {
   "cell_type": "markdown",
   "metadata": {},
   "source": [
    "#### VIF"
   ]
  },
  {
   "cell_type": "code",
   "execution_count": 32,
   "metadata": {},
   "outputs": [],
   "source": [
    "def calc_vif(X):\n",
    "\n",
    "    # Calculating VIF\n",
    "    vif = pd.DataFrame()\n",
    "    vif[\"variables\"] = X.columns\n",
    "    vif[\"VIF\"] = [variance_inflation_factor(X.values, i) for i in range(X.shape[1])]\n",
    "\n",
    "    return(vif)"
   ]
  },
  {
   "cell_type": "code",
   "execution_count": 33,
   "metadata": {},
   "outputs": [
    {
     "data": {
      "text/html": [
       "<div>\n",
       "<style scoped>\n",
       "    .dataframe tbody tr th:only-of-type {\n",
       "        vertical-align: middle;\n",
       "    }\n",
       "\n",
       "    .dataframe tbody tr th {\n",
       "        vertical-align: top;\n",
       "    }\n",
       "\n",
       "    .dataframe thead th {\n",
       "        text-align: right;\n",
       "    }\n",
       "</style>\n",
       "<table border=\"1\" class=\"dataframe\">\n",
       "  <thead>\n",
       "    <tr style=\"text-align: right;\">\n",
       "      <th></th>\n",
       "      <th>variables</th>\n",
       "      <th>VIF</th>\n",
       "    </tr>\n",
       "  </thead>\n",
       "  <tbody>\n",
       "    <tr>\n",
       "      <th>0</th>\n",
       "      <td>pay_1</td>\n",
       "      <td>1.795104</td>\n",
       "    </tr>\n",
       "    <tr>\n",
       "      <th>1</th>\n",
       "      <td>pay_2</td>\n",
       "      <td>2.984567</td>\n",
       "    </tr>\n",
       "    <tr>\n",
       "      <th>2</th>\n",
       "      <td>pay_3</td>\n",
       "      <td>3.286886</td>\n",
       "    </tr>\n",
       "    <tr>\n",
       "      <th>3</th>\n",
       "      <td>pay_4</td>\n",
       "      <td>3.918208</td>\n",
       "    </tr>\n",
       "    <tr>\n",
       "      <th>4</th>\n",
       "      <td>pay_5</td>\n",
       "      <td>4.716277</td>\n",
       "    </tr>\n",
       "    <tr>\n",
       "      <th>5</th>\n",
       "      <td>pay_6</td>\n",
       "      <td>3.079438</td>\n",
       "    </tr>\n",
       "  </tbody>\n",
       "</table>\n",
       "</div>"
      ],
      "text/plain": [
       "  variables       VIF\n",
       "0     pay_1  1.795104\n",
       "1     pay_2  2.984567\n",
       "2     pay_3  3.286886\n",
       "3     pay_4  3.918208\n",
       "4     pay_5  4.716277\n",
       "5     pay_6  3.079438"
      ]
     },
     "execution_count": 33,
     "metadata": {},
     "output_type": "execute_result"
    }
   ],
   "source": [
    "X = df_cat.iloc[:,3:9]\n",
    "calc_vif(X)"
   ]
  },
  {
   "cell_type": "markdown",
   "metadata": {},
   "source": [
    "`Dilihat dari nilai multikolinearitas antar kolom tersebut tidak tinggi atau tidak ada yg diatas 5, sehingga kolom tersebut dikatakan tidak saling berhubungan dan bisa dipakai sebagai fitur modeling`"
   ]
  },
  {
   "cell_type": "code",
   "execution_count": 34,
   "metadata": {},
   "outputs": [
    {
     "data": {
      "text/html": [
       "<div>\n",
       "<style scoped>\n",
       "    .dataframe tbody tr th:only-of-type {\n",
       "        vertical-align: middle;\n",
       "    }\n",
       "\n",
       "    .dataframe tbody tr th {\n",
       "        vertical-align: top;\n",
       "    }\n",
       "\n",
       "    .dataframe thead th {\n",
       "        text-align: right;\n",
       "    }\n",
       "</style>\n",
       "<table border=\"1\" class=\"dataframe\">\n",
       "  <thead>\n",
       "    <tr style=\"text-align: right;\">\n",
       "      <th></th>\n",
       "      <th>pay_1</th>\n",
       "      <th>pay_2</th>\n",
       "      <th>pay_3</th>\n",
       "      <th>pay_4</th>\n",
       "      <th>pay_5</th>\n",
       "      <th>pay_6</th>\n",
       "      <th>payment</th>\n",
       "    </tr>\n",
       "  </thead>\n",
       "  <tbody>\n",
       "    <tr>\n",
       "      <th>2316</th>\n",
       "      <td>0</td>\n",
       "      <td>0</td>\n",
       "      <td>2</td>\n",
       "      <td>0</td>\n",
       "      <td>0</td>\n",
       "      <td>0</td>\n",
       "      <td>0</td>\n",
       "    </tr>\n",
       "    <tr>\n",
       "      <th>1212</th>\n",
       "      <td>1</td>\n",
       "      <td>2</td>\n",
       "      <td>2</td>\n",
       "      <td>2</td>\n",
       "      <td>0</td>\n",
       "      <td>0</td>\n",
       "      <td>1</td>\n",
       "    </tr>\n",
       "    <tr>\n",
       "      <th>51</th>\n",
       "      <td>0</td>\n",
       "      <td>0</td>\n",
       "      <td>0</td>\n",
       "      <td>0</td>\n",
       "      <td>0</td>\n",
       "      <td>-2</td>\n",
       "      <td>0</td>\n",
       "    </tr>\n",
       "  </tbody>\n",
       "</table>\n",
       "</div>"
      ],
      "text/plain": [
       "      pay_1  pay_2  pay_3  pay_4  pay_5  pay_6  payment\n",
       "2316      0      0      2      0      0      0        0\n",
       "1212      1      2      2      2      0      0        1\n",
       "51        0      0      0      0      0     -2        0"
      ]
     },
     "execution_count": 34,
     "metadata": {},
     "output_type": "execute_result"
    }
   ],
   "source": [
    "cat_col_final = ['pay_1','pay_2','pay_3','pay_4','pay_5','pay_6','payment']\n",
    "df_eda[cat_col_final].head(3)"
   ]
  },
  {
   "cell_type": "markdown",
   "metadata": {},
   "source": [
    "`Selanjutnya mencari fitur apa saja yang dipakai pada kolom numerikal`"
   ]
  },
  {
   "cell_type": "markdown",
   "metadata": {},
   "source": [
    "### Numerical Features"
   ]
  },
  {
   "cell_type": "code",
   "execution_count": 35,
   "metadata": {},
   "outputs": [
    {
     "data": {
      "text/html": [
       "<div>\n",
       "<style scoped>\n",
       "    .dataframe tbody tr th:only-of-type {\n",
       "        vertical-align: middle;\n",
       "    }\n",
       "\n",
       "    .dataframe tbody tr th {\n",
       "        vertical-align: top;\n",
       "    }\n",
       "\n",
       "    .dataframe thead th {\n",
       "        text-align: right;\n",
       "    }\n",
       "</style>\n",
       "<table border=\"1\" class=\"dataframe\">\n",
       "  <thead>\n",
       "    <tr style=\"text-align: right;\">\n",
       "      <th></th>\n",
       "      <th>limit_balance</th>\n",
       "      <th>age</th>\n",
       "      <th>bill_amt_1</th>\n",
       "      <th>bill_amt_2</th>\n",
       "      <th>bill_amt_3</th>\n",
       "      <th>bill_amt_4</th>\n",
       "      <th>bill_amt_5</th>\n",
       "      <th>bill_amt_6</th>\n",
       "      <th>pay_amt_1</th>\n",
       "      <th>pay_amt_2</th>\n",
       "      <th>pay_amt_3</th>\n",
       "      <th>pay_amt_4</th>\n",
       "      <th>pay_amt_5</th>\n",
       "      <th>pay_amt_6</th>\n",
       "    </tr>\n",
       "  </thead>\n",
       "  <tbody>\n",
       "    <tr>\n",
       "      <th>2316</th>\n",
       "      <td>80000</td>\n",
       "      <td>54</td>\n",
       "      <td>16613</td>\n",
       "      <td>19828</td>\n",
       "      <td>19227</td>\n",
       "      <td>20593</td>\n",
       "      <td>20951</td>\n",
       "      <td>21460</td>\n",
       "      <td>3500</td>\n",
       "      <td>0</td>\n",
       "      <td>2000</td>\n",
       "      <td>1000</td>\n",
       "      <td>1000</td>\n",
       "      <td>1000</td>\n",
       "    </tr>\n",
       "    <tr>\n",
       "      <th>1212</th>\n",
       "      <td>30000</td>\n",
       "      <td>28</td>\n",
       "      <td>25554</td>\n",
       "      <td>28031</td>\n",
       "      <td>28345</td>\n",
       "      <td>27591</td>\n",
       "      <td>28218</td>\n",
       "      <td>29880</td>\n",
       "      <td>3204</td>\n",
       "      <td>1068</td>\n",
       "      <td>0</td>\n",
       "      <td>1068</td>\n",
       "      <td>2136</td>\n",
       "      <td>600</td>\n",
       "    </tr>\n",
       "    <tr>\n",
       "      <th>51</th>\n",
       "      <td>500000</td>\n",
       "      <td>40</td>\n",
       "      <td>30415</td>\n",
       "      <td>31645</td>\n",
       "      <td>32556</td>\n",
       "      <td>36642</td>\n",
       "      <td>-8</td>\n",
       "      <td>-8</td>\n",
       "      <td>2006</td>\n",
       "      <td>3000</td>\n",
       "      <td>5080</td>\n",
       "      <td>8</td>\n",
       "      <td>0</td>\n",
       "      <td>0</td>\n",
       "    </tr>\n",
       "    <tr>\n",
       "      <th>2273</th>\n",
       "      <td>30000</td>\n",
       "      <td>37</td>\n",
       "      <td>27672</td>\n",
       "      <td>28911</td>\n",
       "      <td>29163</td>\n",
       "      <td>28380</td>\n",
       "      <td>28636</td>\n",
       "      <td>30290</td>\n",
       "      <td>2000</td>\n",
       "      <td>1000</td>\n",
       "      <td>0</td>\n",
       "      <td>1000</td>\n",
       "      <td>2100</td>\n",
       "      <td>1500</td>\n",
       "    </tr>\n",
       "    <tr>\n",
       "      <th>650</th>\n",
       "      <td>240000</td>\n",
       "      <td>34</td>\n",
       "      <td>626</td>\n",
       "      <td>1921</td>\n",
       "      <td>20740</td>\n",
       "      <td>21274</td>\n",
       "      <td>888</td>\n",
       "      <td>360</td>\n",
       "      <td>1921</td>\n",
       "      <td>19000</td>\n",
       "      <td>2624</td>\n",
       "      <td>888</td>\n",
       "      <td>360</td>\n",
       "      <td>360</td>\n",
       "    </tr>\n",
       "  </tbody>\n",
       "</table>\n",
       "</div>"
      ],
      "text/plain": [
       "      limit_balance  age  bill_amt_1  bill_amt_2  bill_amt_3  bill_amt_4  \\\n",
       "2316          80000   54       16613       19828       19227       20593   \n",
       "1212          30000   28       25554       28031       28345       27591   \n",
       "51           500000   40       30415       31645       32556       36642   \n",
       "2273          30000   37       27672       28911       29163       28380   \n",
       "650          240000   34         626        1921       20740       21274   \n",
       "\n",
       "      bill_amt_5  bill_amt_6  pay_amt_1  pay_amt_2  pay_amt_3  pay_amt_4  \\\n",
       "2316       20951       21460       3500          0       2000       1000   \n",
       "1212       28218       29880       3204       1068          0       1068   \n",
       "51            -8          -8       2006       3000       5080          8   \n",
       "2273       28636       30290       2000       1000          0       1000   \n",
       "650          888         360       1921      19000       2624        888   \n",
       "\n",
       "      pay_amt_5  pay_amt_6  \n",
       "2316       1000       1000  \n",
       "1212       2136        600  \n",
       "51            0          0  \n",
       "2273       2100       1500  \n",
       "650         360        360  "
      ]
     },
     "execution_count": 35,
     "metadata": {},
     "output_type": "execute_result"
    }
   ],
   "source": [
    "df_eda[num_col].head()"
   ]
  },
  {
   "cell_type": "markdown",
   "metadata": {},
   "source": [
    "#### Outlier Handling"
   ]
  },
  {
   "cell_type": "markdown",
   "metadata": {},
   "source": [
    "`Mencari masing masing distribusi data kolom numerikal`"
   ]
  },
  {
   "cell_type": "code",
   "execution_count": 36,
   "metadata": {},
   "outputs": [
    {
     "name": "stdout",
     "output_type": "stream",
     "text": [
      "Nilai skew dari limit_balance : 1.0432325519562877\n",
      "Nilai skew dari age : 0.7759826792267019\n",
      "Nilai skew dari bill_amt_1 : 2.4190477314000987\n",
      "Nilai skew dari bill_amt_2 : 2.412735091079112\n",
      "Nilai skew dari bill_amt_3 : 2.4902199991729588\n",
      "Nilai skew dari bill_amt_4 : 2.459689132408018\n",
      "Nilai skew dari bill_amt_5 : 2.4100057526725576\n",
      "Nilai skew dari bill_amt_6 : 2.4774231065233456\n",
      "Nilai skew dari pay_amt_1 : 12.221617155431545\n",
      "Nilai skew dari pay_amt_2 : 27.511245326069893\n",
      "Nilai skew dari pay_amt_3 : 8.664248598413263\n",
      "Nilai skew dari pay_amt_4 : 8.667800641107672\n",
      "Nilai skew dari pay_amt_5 : 12.830889188469582\n",
      "Nilai skew dari pay_amt_6 : 7.591178502400935\n"
     ]
    }
   ],
   "source": [
    "def coba(a,c):\n",
    "  skewness = a[c].skew()\n",
    "  print('Nilai skew dari',c,':',skewness)\n",
    "\n",
    "for x in df_eda[num_col]:\n",
    "    coba(df_eda,x)"
   ]
  },
  {
   "cell_type": "markdown",
   "metadata": {},
   "source": [
    "`Berikut untuk ilustrasi distribusi datanya`"
   ]
  },
  {
   "cell_type": "code",
   "execution_count": 98,
   "metadata": {},
   "outputs": [
    {
     "data": {
      "text/plain": [
       "Text(0.5, 1.0, 'Limit Balance Distribution Plot')"
      ]
     },
     "execution_count": 98,
     "metadata": {},
     "output_type": "execute_result"
    },
    {
     "data": {
      "image/png": "[encoded data removed]",
      "text/plain": [
       "<Figure size 432x288 with 1 Axes>"
      ]
     },
     "metadata": {
      "needs_background": "light"
     },
     "output_type": "display_data"
    }
   ],
   "source": [
    "sns.distplot(df_eda['limit_balance'])\n",
    "plt.title('Limit Balance Distribution Plot')"
   ]
  },
  {
   "cell_type": "code",
   "execution_count": 100,
   "metadata": {},
   "outputs": [
    {
     "data": {
      "text/plain": [
       "Text(0.5, 1.0, 'Limit Balance Box Plot')"
      ]
     },
     "execution_count": 100,
     "metadata": {},
     "output_type": "execute_result"
    },
    {
     "data": {
      "image/png": "[encoded data removed]",
      "text/plain": [
       "<Figure size 432x288 with 1 Axes>"
      ]
     },
     "metadata": {
      "needs_background": "light"
     },
     "output_type": "display_data"
    }
   ],
   "source": [
    "sns.boxplot(df_eda['limit_balance'])\n",
    "plt.title('Limit Balance Box Plot')"
   ]
  },
  {
   "cell_type": "code",
   "execution_count": 37,
   "metadata": {},
   "outputs": [
    {
     "data": {
      "image/png": "[encoded data removed]",
      "text/plain": [
       "<Figure size 720x3600 with 14 Axes>"
      ]
     },
     "metadata": {
      "needs_background": "light"
     },
     "output_type": "display_data"
    }
   ],
   "source": [
    "num_col = ['limit_balance','age','bill_amt_1','bill_amt_2','bill_amt_3','bill_amt_4','bill_amt_5','bill_amt_6','pay_amt_1','pay_amt_2','pay_amt_3'\n",
    "            ,'pay_amt_4','pay_amt_5','pay_amt_6']\n",
    "fig, ax = plt.subplots(nrows=14, figsize=(10,50))\n",
    "ax = ax.flatten()\n",
    "for i, col in enumerate(num_col):\n",
    "    sns.distplot(df_eda[col], ax=ax[i])\n",
    "plt.tight_layout()"
   ]
  },
  {
   "cell_type": "markdown",
   "metadata": {},
   "source": [
    "`Sedangakan berikut, mencari masing masing outliernya`"
   ]
  },
  {
   "cell_type": "code",
   "execution_count": 38,
   "metadata": {},
   "outputs": [
    {
     "name": "stdout",
     "output_type": "stream",
     "text": [
      "percentage outlier from limit_balance : 8.980418636056719 %\n",
      "percentage outlier from age : 9.149223497636733 %\n",
      "percentage outlier from bill_amt_1 : 13.166779203241052 %\n",
      "percentage outlier from bill_amt_2 : 12.89669142471303 %\n",
      "percentage outlier from bill_amt_3 : 13.639432815665092 %\n",
      "percentage outlier from bill_amt_4 : 13.808237677245106 %\n",
      "percentage outlier from bill_amt_5 : 14.449696151249155 %\n",
      "percentage outlier from bill_amt_6 : 14.145847400405131 %\n",
      "percentage outlier from pay_amt_1 : 13.977042538825119 %\n",
      "percentage outlier from pay_amt_2 : 13.943281566509116 %\n",
      "percentage outlier from pay_amt_3 : 12.491559756921 %\n",
      "percentage outlier from pay_amt_4 : 12.491559756921 %\n",
      "percentage outlier from pay_amt_5 : 12.35651586765699 %\n",
      "percentage outlier from pay_amt_6 : 12.930452397029036 %\n"
     ]
    }
   ],
   "source": [
    "def outlier_analysis(data,col):\n",
    "  skewness = data[col].skew()\n",
    "  if skewness>=-0.5 and skewness<=0.5:\n",
    "    upper = data[col].mean() + 3*data[col].std()\n",
    "    lower = data[col].mean() - 3*data[col].std()\n",
    "  else:\n",
    "    Q1 = data[col].quantile(0.25)\n",
    "    Q3 = data[col].quantile(0.75)\n",
    "    IQR = Q3 - Q1\n",
    "    upper = Q1 + 1.5*IQR\n",
    "    lower = Q3 - 1.5*IQR\n",
    "  \n",
    "  no_outliers = data[(data[col]>=lower) & (data[col]<=upper)]\n",
    "  outliers = data[(data[col]<lower) | (data[col]>upper)]\n",
    "  print('percentage outlier from',i,':',len(outliers)/df.shape[0] * 100, '%')\n",
    "  return outliers,no_outliers, upper, lower\n",
    "\n",
    "for i in list(df_eda[num_col].columns):\n",
    "  outlier_analysis(df_eda[num_col],i)"
   ]
  },
  {
   "cell_type": "markdown",
   "metadata": {},
   "source": [
    "`Berikut merupakan visualisasi boxplot outliernya`"
   ]
  },
  {
   "cell_type": "code",
   "execution_count": 39,
   "metadata": {},
   "outputs": [
    {
     "data": {
      "image/png": "[encoded data removed]",
      "text/plain": [
       "<Figure size 720x3600 with 14 Axes>"
      ]
     },
     "metadata": {
      "needs_background": "light"
     },
     "output_type": "display_data"
    }
   ],
   "source": [
    "num_col = ['limit_balance','age','bill_amt_1','bill_amt_2','bill_amt_3','bill_amt_4','bill_amt_5','bill_amt_6','pay_amt_1','pay_amt_2','pay_amt_3'\n",
    "            ,'pay_amt_4','pay_amt_5','pay_amt_6']\n",
    "fig, ax = plt.subplots(nrows=14, figsize=(10,50))\n",
    "ax = ax.flatten()\n",
    "for i, col in enumerate(num_col):\n",
    "    sns.boxplot(df_eda[col], ax=ax[i])\n",
    "plt.tight_layout()\n",
    "\n"
   ]
  },
  {
   "cell_type": "markdown",
   "metadata": {},
   "source": [
    "`Dilihat dari distribusi dan outliernya untuk kolom limit balance dan age mempunyai distsibusi sedikit tidak normal atau skew kanan. Tetapi untuk kolom bill amt dan pay amt mempunyai distribusi yang sangat tidak normal, Diasumsikan karena pada kolom bill amt atau total tagihan dan pay amt atau total yang dibayar masing masing pasti mempunyai perbedaan di setiap orangnya. Sehingga wajar saja pada kolom tersebut mempunyai outlier yang sangat banyak dan juga didukung dengan jumlah outliernya diatas 10% sehingga tidak perlu dihandle outliernya. Tetapi untuk limit balance dan age mempunyai outlier masih dibawah 10% sehingga bisa dilakukan handling outlier sesuai dengan distribusi datanya yang sudah ditampilkan sebelumnya. Tetapi untuk kolom age, umur tidak mungkin dilakukan capping outlier atau diganti umur masing masing orang sehingga yang perlu dihandle outliernya hanyalah kolom limit balance saja.`"
   ]
  },
  {
   "cell_type": "code",
   "execution_count": 40,
   "metadata": {},
   "outputs": [],
   "source": [
    "wins_norm = Winsorizer(capping_method='iqr', tail='right', fold=1.5, variables=['limit_balance'])\n",
    "\n",
    "df_eda_cleaned = wins_norm.fit_transform(df_eda)"
   ]
  },
  {
   "cell_type": "code",
   "execution_count": 41,
   "metadata": {},
   "outputs": [],
   "source": [
    "norm = ['limit_balance']"
   ]
  },
  {
   "cell_type": "code",
   "execution_count": 42,
   "metadata": {},
   "outputs": [
    {
     "name": "stdout",
     "output_type": "stream",
     "text": [
      "before handling: \n",
      "        limit_balance\n",
      "count    2369.000000\n",
      "mean   161806.669481\n",
      "std    123980.074574\n",
      "min     10000.000000\n",
      "25%     50000.000000\n",
      "50%    140000.000000\n",
      "75%    230000.000000\n",
      "max    800000.000000\n"
     ]
    }
   ],
   "source": [
    "print('before handling: \\n', df_eda[norm].describe())"
   ]
  },
  {
   "cell_type": "code",
   "execution_count": 43,
   "metadata": {},
   "outputs": [
    {
     "name": "stdout",
     "output_type": "stream",
     "text": [
      "after handling: \n",
      "        limit_balance\n",
      "count    2369.000000\n",
      "mean   161219.924019\n",
      "std    121815.473023\n",
      "min     10000.000000\n",
      "25%     50000.000000\n",
      "50%    140000.000000\n",
      "75%    230000.000000\n",
      "max    500000.000000\n"
     ]
    }
   ],
   "source": [
    "print('after handling: \\n', df_eda_cleaned[norm].describe())"
   ]
  },
  {
   "cell_type": "markdown",
   "metadata": {},
   "source": [
    "`Setalah di handle, terdepat perbedaan sedikit pada nilai mean dan max pada kedua kolom tersebut` "
   ]
  },
  {
   "cell_type": "markdown",
   "metadata": {},
   "source": [
    "#### Heatmap for numerikal"
   ]
  },
  {
   "cell_type": "markdown",
   "metadata": {},
   "source": [
    "`Selanjutnya mencari korelasi antara kolom numerikal dengan target`"
   ]
  },
  {
   "cell_type": "code",
   "execution_count": 44,
   "metadata": {},
   "outputs": [
    {
     "data": {
      "image/png": "[encoded data removed]",
      "text/plain": [
       "<Figure size 1440x720 with 2 Axes>"
      ]
     },
     "metadata": {
      "needs_background": "light"
     },
     "output_type": "display_data"
    }
   ],
   "source": [
    "num_col = ['limit_balance','age','bill_amt_1','bill_amt_2','bill_amt_3','bill_amt_4','bill_amt_5','bill_amt_6','pay_amt_1','pay_amt_2','pay_amt_3'\n",
    "            ,'pay_amt_4','pay_amt_5','pay_amt_6','payment']\n",
    "fig,ax = plt.subplots(figsize=[20,10])\n",
    "corr = df_eda_cleaned[num_col].corr()\n",
    "\n",
    "ax = sns.heatmap(corr,annot=True)\n",
    "plt.show()"
   ]
  },
  {
   "cell_type": "markdown",
   "metadata": {},
   "source": [
    "`Pada fitur kolom numerikal yang dipilih adalah limit_balance saja. Dikarenakan nilai korelasinya dengan target atau payment cukup baik dibanding yang lain yaitu masih diatas 0,1 walaupun minus yang berarti terbalik hubungannya dengan target, kolom lomit balance masih cukup baik untuk digunakan sebagai kolom fitur modeling. Sehingga sisanya tidak dipakai menjadi fitur model`"
   ]
  },
  {
   "cell_type": "code",
   "execution_count": 45,
   "metadata": {},
   "outputs": [],
   "source": [
    "num_col_final = ['limit_balance']"
   ]
  },
  {
   "cell_type": "code",
   "execution_count": 46,
   "metadata": {},
   "outputs": [],
   "source": [
    "final = num_col_final + cat_col_final"
   ]
  },
  {
   "cell_type": "code",
   "execution_count": 47,
   "metadata": {},
   "outputs": [
    {
     "data": {
      "text/html": [
       "<div>\n",
       "<style scoped>\n",
       "    .dataframe tbody tr th:only-of-type {\n",
       "        vertical-align: middle;\n",
       "    }\n",
       "\n",
       "    .dataframe tbody tr th {\n",
       "        vertical-align: top;\n",
       "    }\n",
       "\n",
       "    .dataframe thead th {\n",
       "        text-align: right;\n",
       "    }\n",
       "</style>\n",
       "<table border=\"1\" class=\"dataframe\">\n",
       "  <thead>\n",
       "    <tr style=\"text-align: right;\">\n",
       "      <th></th>\n",
       "      <th>limit_balance</th>\n",
       "      <th>pay_1</th>\n",
       "      <th>pay_2</th>\n",
       "      <th>pay_3</th>\n",
       "      <th>pay_4</th>\n",
       "      <th>pay_5</th>\n",
       "      <th>pay_6</th>\n",
       "      <th>payment</th>\n",
       "    </tr>\n",
       "  </thead>\n",
       "  <tbody>\n",
       "    <tr>\n",
       "      <th>2316</th>\n",
       "      <td>80000.0</td>\n",
       "      <td>0</td>\n",
       "      <td>0</td>\n",
       "      <td>2</td>\n",
       "      <td>0</td>\n",
       "      <td>0</td>\n",
       "      <td>0</td>\n",
       "      <td>0</td>\n",
       "    </tr>\n",
       "    <tr>\n",
       "      <th>1212</th>\n",
       "      <td>30000.0</td>\n",
       "      <td>1</td>\n",
       "      <td>2</td>\n",
       "      <td>2</td>\n",
       "      <td>2</td>\n",
       "      <td>0</td>\n",
       "      <td>0</td>\n",
       "      <td>1</td>\n",
       "    </tr>\n",
       "    <tr>\n",
       "      <th>51</th>\n",
       "      <td>500000.0</td>\n",
       "      <td>0</td>\n",
       "      <td>0</td>\n",
       "      <td>0</td>\n",
       "      <td>0</td>\n",
       "      <td>0</td>\n",
       "      <td>-2</td>\n",
       "      <td>0</td>\n",
       "    </tr>\n",
       "    <tr>\n",
       "      <th>2273</th>\n",
       "      <td>30000.0</td>\n",
       "      <td>3</td>\n",
       "      <td>3</td>\n",
       "      <td>3</td>\n",
       "      <td>2</td>\n",
       "      <td>0</td>\n",
       "      <td>0</td>\n",
       "      <td>1</td>\n",
       "    </tr>\n",
       "    <tr>\n",
       "      <th>650</th>\n",
       "      <td>240000.0</td>\n",
       "      <td>-1</td>\n",
       "      <td>-1</td>\n",
       "      <td>0</td>\n",
       "      <td>0</td>\n",
       "      <td>-1</td>\n",
       "      <td>-1</td>\n",
       "      <td>0</td>\n",
       "    </tr>\n",
       "    <tr>\n",
       "      <th>...</th>\n",
       "      <td>...</td>\n",
       "      <td>...</td>\n",
       "      <td>...</td>\n",
       "      <td>...</td>\n",
       "      <td>...</td>\n",
       "      <td>...</td>\n",
       "      <td>...</td>\n",
       "      <td>...</td>\n",
       "    </tr>\n",
       "    <tr>\n",
       "      <th>1407</th>\n",
       "      <td>150000.0</td>\n",
       "      <td>-1</td>\n",
       "      <td>-1</td>\n",
       "      <td>-1</td>\n",
       "      <td>-1</td>\n",
       "      <td>-1</td>\n",
       "      <td>-1</td>\n",
       "      <td>0</td>\n",
       "    </tr>\n",
       "    <tr>\n",
       "      <th>483</th>\n",
       "      <td>320000.0</td>\n",
       "      <td>-2</td>\n",
       "      <td>-2</td>\n",
       "      <td>-2</td>\n",
       "      <td>-2</td>\n",
       "      <td>-2</td>\n",
       "      <td>-2</td>\n",
       "      <td>0</td>\n",
       "    </tr>\n",
       "    <tr>\n",
       "      <th>1128</th>\n",
       "      <td>230000.0</td>\n",
       "      <td>0</td>\n",
       "      <td>0</td>\n",
       "      <td>0</td>\n",
       "      <td>0</td>\n",
       "      <td>-1</td>\n",
       "      <td>-1</td>\n",
       "      <td>0</td>\n",
       "    </tr>\n",
       "    <tr>\n",
       "      <th>71</th>\n",
       "      <td>210000.0</td>\n",
       "      <td>0</td>\n",
       "      <td>0</td>\n",
       "      <td>0</td>\n",
       "      <td>0</td>\n",
       "      <td>0</td>\n",
       "      <td>0</td>\n",
       "      <td>0</td>\n",
       "    </tr>\n",
       "    <tr>\n",
       "      <th>4</th>\n",
       "      <td>50000.0</td>\n",
       "      <td>0</td>\n",
       "      <td>0</td>\n",
       "      <td>0</td>\n",
       "      <td>0</td>\n",
       "      <td>0</td>\n",
       "      <td>2</td>\n",
       "      <td>0</td>\n",
       "    </tr>\n",
       "  </tbody>\n",
       "</table>\n",
       "<p>2369 rows × 8 columns</p>\n",
       "</div>"
      ],
      "text/plain": [
       "      limit_balance  pay_1  pay_2  pay_3  pay_4  pay_5  pay_6  payment\n",
       "2316        80000.0      0      0      2      0      0      0        0\n",
       "1212        30000.0      1      2      2      2      0      0        1\n",
       "51         500000.0      0      0      0      0      0     -2        0\n",
       "2273        30000.0      3      3      3      2      0      0        1\n",
       "650        240000.0     -1     -1      0      0     -1     -1        0\n",
       "...             ...    ...    ...    ...    ...    ...    ...      ...\n",
       "1407       150000.0     -1     -1     -1     -1     -1     -1        0\n",
       "483        320000.0     -2     -2     -2     -2     -2     -2        0\n",
       "1128       230000.0      0      0      0      0     -1     -1        0\n",
       "71         210000.0      0      0      0      0      0      0        0\n",
       "4           50000.0      0      0      0      0      0      2        0\n",
       "\n",
       "[2369 rows x 8 columns]"
      ]
     },
     "execution_count": 47,
     "metadata": {},
     "output_type": "execute_result"
    }
   ],
   "source": [
    "df_eda_cleaned = df_eda_cleaned[final]\n",
    "df_eda_cleaned"
   ]
  },
  {
   "cell_type": "markdown",
   "metadata": {},
   "source": [
    "#### Scaling"
   ]
  },
  {
   "cell_type": "markdown",
   "metadata": {},
   "source": [
    "`Setelah ditentukan fitur fitur apa saja yang dipakai, maka selanjutnya melakukan scaling`"
   ]
  },
  {
   "cell_type": "code",
   "execution_count": 48,
   "metadata": {},
   "outputs": [
    {
     "data": {
      "text/plain": [
       "0.908388299573981"
      ]
     },
     "execution_count": 48,
     "metadata": {},
     "output_type": "execute_result"
    }
   ],
   "source": [
    "df_eda_cleaned['limit_balance'].skew()"
   ]
  },
  {
   "cell_type": "code",
   "execution_count": 49,
   "metadata": {},
   "outputs": [
    {
     "data": {
      "text/html": [
       "<div>\n",
       "<style scoped>\n",
       "    .dataframe tbody tr th:only-of-type {\n",
       "        vertical-align: middle;\n",
       "    }\n",
       "\n",
       "    .dataframe tbody tr th {\n",
       "        vertical-align: top;\n",
       "    }\n",
       "\n",
       "    .dataframe thead th {\n",
       "        text-align: right;\n",
       "    }\n",
       "</style>\n",
       "<table border=\"1\" class=\"dataframe\">\n",
       "  <thead>\n",
       "    <tr style=\"text-align: right;\">\n",
       "      <th></th>\n",
       "      <th>limit_balance</th>\n",
       "      <th>pay_1</th>\n",
       "      <th>pay_2</th>\n",
       "      <th>pay_3</th>\n",
       "      <th>pay_4</th>\n",
       "      <th>pay_5</th>\n",
       "      <th>pay_6</th>\n",
       "      <th>payment</th>\n",
       "    </tr>\n",
       "  </thead>\n",
       "  <tbody>\n",
       "    <tr>\n",
       "      <th>2316</th>\n",
       "      <td>0.142857</td>\n",
       "      <td>0</td>\n",
       "      <td>0</td>\n",
       "      <td>2</td>\n",
       "      <td>0</td>\n",
       "      <td>0</td>\n",
       "      <td>0</td>\n",
       "      <td>0</td>\n",
       "    </tr>\n",
       "    <tr>\n",
       "      <th>1212</th>\n",
       "      <td>0.040816</td>\n",
       "      <td>1</td>\n",
       "      <td>2</td>\n",
       "      <td>2</td>\n",
       "      <td>2</td>\n",
       "      <td>0</td>\n",
       "      <td>0</td>\n",
       "      <td>1</td>\n",
       "    </tr>\n",
       "    <tr>\n",
       "      <th>51</th>\n",
       "      <td>1.000000</td>\n",
       "      <td>0</td>\n",
       "      <td>0</td>\n",
       "      <td>0</td>\n",
       "      <td>0</td>\n",
       "      <td>0</td>\n",
       "      <td>-2</td>\n",
       "      <td>0</td>\n",
       "    </tr>\n",
       "    <tr>\n",
       "      <th>2273</th>\n",
       "      <td>0.040816</td>\n",
       "      <td>3</td>\n",
       "      <td>3</td>\n",
       "      <td>3</td>\n",
       "      <td>2</td>\n",
       "      <td>0</td>\n",
       "      <td>0</td>\n",
       "      <td>1</td>\n",
       "    </tr>\n",
       "    <tr>\n",
       "      <th>650</th>\n",
       "      <td>0.469388</td>\n",
       "      <td>-1</td>\n",
       "      <td>-1</td>\n",
       "      <td>0</td>\n",
       "      <td>0</td>\n",
       "      <td>-1</td>\n",
       "      <td>-1</td>\n",
       "      <td>0</td>\n",
       "    </tr>\n",
       "    <tr>\n",
       "      <th>...</th>\n",
       "      <td>...</td>\n",
       "      <td>...</td>\n",
       "      <td>...</td>\n",
       "      <td>...</td>\n",
       "      <td>...</td>\n",
       "      <td>...</td>\n",
       "      <td>...</td>\n",
       "      <td>...</td>\n",
       "    </tr>\n",
       "    <tr>\n",
       "      <th>1407</th>\n",
       "      <td>0.285714</td>\n",
       "      <td>-1</td>\n",
       "      <td>-1</td>\n",
       "      <td>-1</td>\n",
       "      <td>-1</td>\n",
       "      <td>-1</td>\n",
       "      <td>-1</td>\n",
       "      <td>0</td>\n",
       "    </tr>\n",
       "    <tr>\n",
       "      <th>483</th>\n",
       "      <td>0.632653</td>\n",
       "      <td>-2</td>\n",
       "      <td>-2</td>\n",
       "      <td>-2</td>\n",
       "      <td>-2</td>\n",
       "      <td>-2</td>\n",
       "      <td>-2</td>\n",
       "      <td>0</td>\n",
       "    </tr>\n",
       "    <tr>\n",
       "      <th>1128</th>\n",
       "      <td>0.448980</td>\n",
       "      <td>0</td>\n",
       "      <td>0</td>\n",
       "      <td>0</td>\n",
       "      <td>0</td>\n",
       "      <td>-1</td>\n",
       "      <td>-1</td>\n",
       "      <td>0</td>\n",
       "    </tr>\n",
       "    <tr>\n",
       "      <th>71</th>\n",
       "      <td>0.408163</td>\n",
       "      <td>0</td>\n",
       "      <td>0</td>\n",
       "      <td>0</td>\n",
       "      <td>0</td>\n",
       "      <td>0</td>\n",
       "      <td>0</td>\n",
       "      <td>0</td>\n",
       "    </tr>\n",
       "    <tr>\n",
       "      <th>4</th>\n",
       "      <td>0.081633</td>\n",
       "      <td>0</td>\n",
       "      <td>0</td>\n",
       "      <td>0</td>\n",
       "      <td>0</td>\n",
       "      <td>0</td>\n",
       "      <td>2</td>\n",
       "      <td>0</td>\n",
       "    </tr>\n",
       "  </tbody>\n",
       "</table>\n",
       "<p>2369 rows × 8 columns</p>\n",
       "</div>"
      ],
      "text/plain": [
       "      limit_balance  pay_1  pay_2  pay_3  pay_4  pay_5  pay_6  payment\n",
       "2316       0.142857      0      0      2      0      0      0        0\n",
       "1212       0.040816      1      2      2      2      0      0        1\n",
       "51         1.000000      0      0      0      0      0     -2        0\n",
       "2273       0.040816      3      3      3      2      0      0        1\n",
       "650        0.469388     -1     -1      0      0     -1     -1        0\n",
       "...             ...    ...    ...    ...    ...    ...    ...      ...\n",
       "1407       0.285714     -1     -1     -1     -1     -1     -1        0\n",
       "483        0.632653     -2     -2     -2     -2     -2     -2        0\n",
       "1128       0.448980      0      0      0      0     -1     -1        0\n",
       "71         0.408163      0      0      0      0      0      0        0\n",
       "4          0.081633      0      0      0      0      0      2        0\n",
       "\n",
       "[2369 rows x 8 columns]"
      ]
     },
     "execution_count": 49,
     "metadata": {},
     "output_type": "execute_result"
    }
   ],
   "source": [
    "num_col_final = ['limit_balance']\n",
    "scaler = MinMaxScaler()\n",
    "\n",
    "df_eda_cleaned[num_col_final] = scaler.fit_transform(df_eda_cleaned[num_col_final])\n",
    "df_eda_cleaned"
   ]
  },
  {
   "cell_type": "markdown",
   "metadata": {},
   "source": [
    "`Scaling pada kolom limit balance menggunakan MinMax scaler dikarenakan kolom tersebut mempunyai distribusi data tidak normal atau skew`"
   ]
  },
  {
   "cell_type": "markdown",
   "metadata": {},
   "source": [
    "## v. Data Preprocessing"
   ]
  },
  {
   "cell_type": "markdown",
   "metadata": {},
   "source": [
    "`Selanjutnya untuk data testing juga dilakukan feature enginering yang sama dengan training seperti handle outlier dan juga scaling`"
   ]
  },
  {
   "cell_type": "code",
   "execution_count": 50,
   "metadata": {},
   "outputs": [
    {
     "data": {
      "text/html": [
       "<div>\n",
       "<style scoped>\n",
       "    .dataframe tbody tr th:only-of-type {\n",
       "        vertical-align: middle;\n",
       "    }\n",
       "\n",
       "    .dataframe tbody tr th {\n",
       "        vertical-align: top;\n",
       "    }\n",
       "\n",
       "    .dataframe thead th {\n",
       "        text-align: right;\n",
       "    }\n",
       "</style>\n",
       "<table border=\"1\" class=\"dataframe\">\n",
       "  <thead>\n",
       "    <tr style=\"text-align: right;\">\n",
       "      <th></th>\n",
       "      <th>limit_balance</th>\n",
       "      <th>sex</th>\n",
       "      <th>education_level</th>\n",
       "      <th>marital_status</th>\n",
       "      <th>age</th>\n",
       "      <th>pay_1</th>\n",
       "      <th>pay_2</th>\n",
       "      <th>pay_3</th>\n",
       "      <th>pay_4</th>\n",
       "      <th>pay_5</th>\n",
       "      <th>...</th>\n",
       "      <th>bill_amt_4</th>\n",
       "      <th>bill_amt_5</th>\n",
       "      <th>bill_amt_6</th>\n",
       "      <th>pay_amt_1</th>\n",
       "      <th>pay_amt_2</th>\n",
       "      <th>pay_amt_3</th>\n",
       "      <th>pay_amt_4</th>\n",
       "      <th>pay_amt_5</th>\n",
       "      <th>pay_amt_6</th>\n",
       "      <th>payment</th>\n",
       "    </tr>\n",
       "  </thead>\n",
       "  <tbody>\n",
       "    <tr>\n",
       "      <th>1481</th>\n",
       "      <td>100000</td>\n",
       "      <td>1</td>\n",
       "      <td>2</td>\n",
       "      <td>2</td>\n",
       "      <td>29</td>\n",
       "      <td>-1</td>\n",
       "      <td>-1</td>\n",
       "      <td>-1</td>\n",
       "      <td>0</td>\n",
       "      <td>-1</td>\n",
       "      <td>...</td>\n",
       "      <td>6150</td>\n",
       "      <td>10122</td>\n",
       "      <td>2689</td>\n",
       "      <td>2005</td>\n",
       "      <td>6633</td>\n",
       "      <td>18</td>\n",
       "      <td>10152</td>\n",
       "      <td>2697</td>\n",
       "      <td>3607</td>\n",
       "      <td>0</td>\n",
       "    </tr>\n",
       "    <tr>\n",
       "      <th>1885</th>\n",
       "      <td>90000</td>\n",
       "      <td>2</td>\n",
       "      <td>1</td>\n",
       "      <td>2</td>\n",
       "      <td>25</td>\n",
       "      <td>2</td>\n",
       "      <td>0</td>\n",
       "      <td>0</td>\n",
       "      <td>0</td>\n",
       "      <td>0</td>\n",
       "      <td>...</td>\n",
       "      <td>18889</td>\n",
       "      <td>-783</td>\n",
       "      <td>73568</td>\n",
       "      <td>4000</td>\n",
       "      <td>3258</td>\n",
       "      <td>1000</td>\n",
       "      <td>0</td>\n",
       "      <td>77500</td>\n",
       "      <td>0</td>\n",
       "      <td>0</td>\n",
       "    </tr>\n",
       "    <tr>\n",
       "      <th>492</th>\n",
       "      <td>500000</td>\n",
       "      <td>2</td>\n",
       "      <td>1</td>\n",
       "      <td>1</td>\n",
       "      <td>38</td>\n",
       "      <td>-2</td>\n",
       "      <td>-2</td>\n",
       "      <td>-2</td>\n",
       "      <td>-2</td>\n",
       "      <td>-2</td>\n",
       "      <td>...</td>\n",
       "      <td>6972</td>\n",
       "      <td>11879</td>\n",
       "      <td>15574</td>\n",
       "      <td>9782</td>\n",
       "      <td>9350</td>\n",
       "      <td>6972</td>\n",
       "      <td>11879</td>\n",
       "      <td>15574</td>\n",
       "      <td>12921</td>\n",
       "      <td>0</td>\n",
       "    </tr>\n",
       "    <tr>\n",
       "      <th>2614</th>\n",
       "      <td>180000</td>\n",
       "      <td>1</td>\n",
       "      <td>2</td>\n",
       "      <td>1</td>\n",
       "      <td>33</td>\n",
       "      <td>0</td>\n",
       "      <td>0</td>\n",
       "      <td>0</td>\n",
       "      <td>0</td>\n",
       "      <td>0</td>\n",
       "      <td>...</td>\n",
       "      <td>34337</td>\n",
       "      <td>33524</td>\n",
       "      <td>35223</td>\n",
       "      <td>3006</td>\n",
       "      <td>3007</td>\n",
       "      <td>3002</td>\n",
       "      <td>3000</td>\n",
       "      <td>3000</td>\n",
       "      <td>2003</td>\n",
       "      <td>0</td>\n",
       "    </tr>\n",
       "    <tr>\n",
       "      <th>1916</th>\n",
       "      <td>80000</td>\n",
       "      <td>1</td>\n",
       "      <td>3</td>\n",
       "      <td>2</td>\n",
       "      <td>27</td>\n",
       "      <td>0</td>\n",
       "      <td>0</td>\n",
       "      <td>2</td>\n",
       "      <td>2</td>\n",
       "      <td>2</td>\n",
       "      <td>...</td>\n",
       "      <td>62756</td>\n",
       "      <td>61149</td>\n",
       "      <td>62464</td>\n",
       "      <td>50000</td>\n",
       "      <td>4000</td>\n",
       "      <td>2200</td>\n",
       "      <td>0</td>\n",
       "      <td>2300</td>\n",
       "      <td>5108</td>\n",
       "      <td>0</td>\n",
       "    </tr>\n",
       "  </tbody>\n",
       "</table>\n",
       "<p>5 rows × 24 columns</p>\n",
       "</div>"
      ],
      "text/plain": [
       "      limit_balance  sex  education_level  marital_status  age  pay_1  pay_2  \\\n",
       "1481         100000    1                2               2   29     -1     -1   \n",
       "1885          90000    2                1               2   25      2      0   \n",
       "492          500000    2                1               1   38     -2     -2   \n",
       "2614         180000    1                2               1   33      0      0   \n",
       "1916          80000    1                3               2   27      0      0   \n",
       "\n",
       "      pay_3  pay_4  pay_5  ...  bill_amt_4  bill_amt_5  bill_amt_6  pay_amt_1  \\\n",
       "1481     -1      0     -1  ...        6150       10122        2689       2005   \n",
       "1885      0      0      0  ...       18889        -783       73568       4000   \n",
       "492      -2     -2     -2  ...        6972       11879       15574       9782   \n",
       "2614      0      0      0  ...       34337       33524       35223       3006   \n",
       "1916      2      2      2  ...       62756       61149       62464      50000   \n",
       "\n",
       "      pay_amt_2  pay_amt_3  pay_amt_4  pay_amt_5  pay_amt_6  payment  \n",
       "1481       6633         18      10152       2697       3607        0  \n",
       "1885       3258       1000          0      77500          0        0  \n",
       "492        9350       6972      11879      15574      12921        0  \n",
       "2614       3007       3002       3000       3000       2003        0  \n",
       "1916       4000       2200          0       2300       5108        0  \n",
       "\n",
       "[5 rows x 24 columns]"
      ]
     },
     "execution_count": 50,
     "metadata": {},
     "output_type": "execute_result"
    }
   ],
   "source": [
    "testing = pd.concat([X_test, y_test], axis=1)\n",
    "testing.head()"
   ]
  },
  {
   "cell_type": "markdown",
   "metadata": {},
   "source": [
    "### Outlier Handling"
   ]
  },
  {
   "cell_type": "code",
   "execution_count": 51,
   "metadata": {},
   "outputs": [
    {
     "data": {
      "text/html": [
       "<div>\n",
       "<style scoped>\n",
       "    .dataframe tbody tr th:only-of-type {\n",
       "        vertical-align: middle;\n",
       "    }\n",
       "\n",
       "    .dataframe tbody tr th {\n",
       "        vertical-align: top;\n",
       "    }\n",
       "\n",
       "    .dataframe thead th {\n",
       "        text-align: right;\n",
       "    }\n",
       "</style>\n",
       "<table border=\"1\" class=\"dataframe\">\n",
       "  <thead>\n",
       "    <tr style=\"text-align: right;\">\n",
       "      <th></th>\n",
       "      <th>limit_balance</th>\n",
       "      <th>sex</th>\n",
       "      <th>education_level</th>\n",
       "      <th>marital_status</th>\n",
       "      <th>age</th>\n",
       "      <th>pay_1</th>\n",
       "      <th>pay_2</th>\n",
       "      <th>pay_3</th>\n",
       "      <th>pay_4</th>\n",
       "      <th>pay_5</th>\n",
       "      <th>...</th>\n",
       "      <th>bill_amt_4</th>\n",
       "      <th>bill_amt_5</th>\n",
       "      <th>bill_amt_6</th>\n",
       "      <th>pay_amt_1</th>\n",
       "      <th>pay_amt_2</th>\n",
       "      <th>pay_amt_3</th>\n",
       "      <th>pay_amt_4</th>\n",
       "      <th>pay_amt_5</th>\n",
       "      <th>pay_amt_6</th>\n",
       "      <th>payment</th>\n",
       "    </tr>\n",
       "  </thead>\n",
       "  <tbody>\n",
       "    <tr>\n",
       "      <th>1481</th>\n",
       "      <td>100000.0</td>\n",
       "      <td>1</td>\n",
       "      <td>2</td>\n",
       "      <td>2</td>\n",
       "      <td>29</td>\n",
       "      <td>-1</td>\n",
       "      <td>-1</td>\n",
       "      <td>-1</td>\n",
       "      <td>0</td>\n",
       "      <td>-1</td>\n",
       "      <td>...</td>\n",
       "      <td>6150</td>\n",
       "      <td>10122</td>\n",
       "      <td>2689</td>\n",
       "      <td>2005</td>\n",
       "      <td>6633</td>\n",
       "      <td>18</td>\n",
       "      <td>10152</td>\n",
       "      <td>2697</td>\n",
       "      <td>3607</td>\n",
       "      <td>0</td>\n",
       "    </tr>\n",
       "    <tr>\n",
       "      <th>1885</th>\n",
       "      <td>90000.0</td>\n",
       "      <td>2</td>\n",
       "      <td>1</td>\n",
       "      <td>2</td>\n",
       "      <td>25</td>\n",
       "      <td>2</td>\n",
       "      <td>0</td>\n",
       "      <td>0</td>\n",
       "      <td>0</td>\n",
       "      <td>0</td>\n",
       "      <td>...</td>\n",
       "      <td>18889</td>\n",
       "      <td>-783</td>\n",
       "      <td>73568</td>\n",
       "      <td>4000</td>\n",
       "      <td>3258</td>\n",
       "      <td>1000</td>\n",
       "      <td>0</td>\n",
       "      <td>77500</td>\n",
       "      <td>0</td>\n",
       "      <td>0</td>\n",
       "    </tr>\n",
       "    <tr>\n",
       "      <th>492</th>\n",
       "      <td>500000.0</td>\n",
       "      <td>2</td>\n",
       "      <td>1</td>\n",
       "      <td>1</td>\n",
       "      <td>38</td>\n",
       "      <td>-2</td>\n",
       "      <td>-2</td>\n",
       "      <td>-2</td>\n",
       "      <td>-2</td>\n",
       "      <td>-2</td>\n",
       "      <td>...</td>\n",
       "      <td>6972</td>\n",
       "      <td>11879</td>\n",
       "      <td>15574</td>\n",
       "      <td>9782</td>\n",
       "      <td>9350</td>\n",
       "      <td>6972</td>\n",
       "      <td>11879</td>\n",
       "      <td>15574</td>\n",
       "      <td>12921</td>\n",
       "      <td>0</td>\n",
       "    </tr>\n",
       "    <tr>\n",
       "      <th>2614</th>\n",
       "      <td>180000.0</td>\n",
       "      <td>1</td>\n",
       "      <td>2</td>\n",
       "      <td>1</td>\n",
       "      <td>33</td>\n",
       "      <td>0</td>\n",
       "      <td>0</td>\n",
       "      <td>0</td>\n",
       "      <td>0</td>\n",
       "      <td>0</td>\n",
       "      <td>...</td>\n",
       "      <td>34337</td>\n",
       "      <td>33524</td>\n",
       "      <td>35223</td>\n",
       "      <td>3006</td>\n",
       "      <td>3007</td>\n",
       "      <td>3002</td>\n",
       "      <td>3000</td>\n",
       "      <td>3000</td>\n",
       "      <td>2003</td>\n",
       "      <td>0</td>\n",
       "    </tr>\n",
       "    <tr>\n",
       "      <th>1916</th>\n",
       "      <td>80000.0</td>\n",
       "      <td>1</td>\n",
       "      <td>3</td>\n",
       "      <td>2</td>\n",
       "      <td>27</td>\n",
       "      <td>0</td>\n",
       "      <td>0</td>\n",
       "      <td>2</td>\n",
       "      <td>2</td>\n",
       "      <td>2</td>\n",
       "      <td>...</td>\n",
       "      <td>62756</td>\n",
       "      <td>61149</td>\n",
       "      <td>62464</td>\n",
       "      <td>50000</td>\n",
       "      <td>4000</td>\n",
       "      <td>2200</td>\n",
       "      <td>0</td>\n",
       "      <td>2300</td>\n",
       "      <td>5108</td>\n",
       "      <td>0</td>\n",
       "    </tr>\n",
       "  </tbody>\n",
       "</table>\n",
       "<p>5 rows × 24 columns</p>\n",
       "</div>"
      ],
      "text/plain": [
       "      limit_balance  sex  education_level  marital_status  age  pay_1  pay_2  \\\n",
       "1481       100000.0    1                2               2   29     -1     -1   \n",
       "1885        90000.0    2                1               2   25      2      0   \n",
       "492        500000.0    2                1               1   38     -2     -2   \n",
       "2614       180000.0    1                2               1   33      0      0   \n",
       "1916        80000.0    1                3               2   27      0      0   \n",
       "\n",
       "      pay_3  pay_4  pay_5  ...  bill_amt_4  bill_amt_5  bill_amt_6  pay_amt_1  \\\n",
       "1481     -1      0     -1  ...        6150       10122        2689       2005   \n",
       "1885      0      0      0  ...       18889        -783       73568       4000   \n",
       "492      -2     -2     -2  ...        6972       11879       15574       9782   \n",
       "2614      0      0      0  ...       34337       33524       35223       3006   \n",
       "1916      2      2      2  ...       62756       61149       62464      50000   \n",
       "\n",
       "      pay_amt_2  pay_amt_3  pay_amt_4  pay_amt_5  pay_amt_6  payment  \n",
       "1481       6633         18      10152       2697       3607        0  \n",
       "1885       3258       1000          0      77500          0        0  \n",
       "492        9350       6972      11879      15574      12921        0  \n",
       "2614       3007       3002       3000       3000       2003        0  \n",
       "1916       4000       2200          0       2300       5108        0  \n",
       "\n",
       "[5 rows x 24 columns]"
      ]
     },
     "execution_count": 51,
     "metadata": {},
     "output_type": "execute_result"
    }
   ],
   "source": [
    "testing_cleaned = wins_norm.transform(testing)\n",
    "testing_cleaned.head()"
   ]
  },
  {
   "cell_type": "code",
   "execution_count": 52,
   "metadata": {},
   "outputs": [
    {
     "data": {
      "text/html": [
       "<div>\n",
       "<style scoped>\n",
       "    .dataframe tbody tr th:only-of-type {\n",
       "        vertical-align: middle;\n",
       "    }\n",
       "\n",
       "    .dataframe tbody tr th {\n",
       "        vertical-align: top;\n",
       "    }\n",
       "\n",
       "    .dataframe thead th {\n",
       "        text-align: right;\n",
       "    }\n",
       "</style>\n",
       "<table border=\"1\" class=\"dataframe\">\n",
       "  <thead>\n",
       "    <tr style=\"text-align: right;\">\n",
       "      <th></th>\n",
       "      <th>limit_balance</th>\n",
       "      <th>pay_1</th>\n",
       "      <th>pay_2</th>\n",
       "      <th>pay_3</th>\n",
       "      <th>pay_4</th>\n",
       "      <th>pay_5</th>\n",
       "      <th>pay_6</th>\n",
       "      <th>payment</th>\n",
       "    </tr>\n",
       "  </thead>\n",
       "  <tbody>\n",
       "    <tr>\n",
       "      <th>1481</th>\n",
       "      <td>100000.0</td>\n",
       "      <td>-1</td>\n",
       "      <td>-1</td>\n",
       "      <td>-1</td>\n",
       "      <td>0</td>\n",
       "      <td>-1</td>\n",
       "      <td>-1</td>\n",
       "      <td>0</td>\n",
       "    </tr>\n",
       "    <tr>\n",
       "      <th>1885</th>\n",
       "      <td>90000.0</td>\n",
       "      <td>2</td>\n",
       "      <td>0</td>\n",
       "      <td>0</td>\n",
       "      <td>0</td>\n",
       "      <td>0</td>\n",
       "      <td>-1</td>\n",
       "      <td>0</td>\n",
       "    </tr>\n",
       "    <tr>\n",
       "      <th>492</th>\n",
       "      <td>500000.0</td>\n",
       "      <td>-2</td>\n",
       "      <td>-2</td>\n",
       "      <td>-2</td>\n",
       "      <td>-2</td>\n",
       "      <td>-2</td>\n",
       "      <td>-2</td>\n",
       "      <td>0</td>\n",
       "    </tr>\n",
       "    <tr>\n",
       "      <th>2614</th>\n",
       "      <td>180000.0</td>\n",
       "      <td>0</td>\n",
       "      <td>0</td>\n",
       "      <td>0</td>\n",
       "      <td>0</td>\n",
       "      <td>0</td>\n",
       "      <td>0</td>\n",
       "      <td>0</td>\n",
       "    </tr>\n",
       "    <tr>\n",
       "      <th>1916</th>\n",
       "      <td>80000.0</td>\n",
       "      <td>0</td>\n",
       "      <td>0</td>\n",
       "      <td>2</td>\n",
       "      <td>2</td>\n",
       "      <td>2</td>\n",
       "      <td>0</td>\n",
       "      <td>0</td>\n",
       "    </tr>\n",
       "    <tr>\n",
       "      <th>...</th>\n",
       "      <td>...</td>\n",
       "      <td>...</td>\n",
       "      <td>...</td>\n",
       "      <td>...</td>\n",
       "      <td>...</td>\n",
       "      <td>...</td>\n",
       "      <td>...</td>\n",
       "      <td>...</td>\n",
       "    </tr>\n",
       "    <tr>\n",
       "      <th>2097</th>\n",
       "      <td>30000.0</td>\n",
       "      <td>4</td>\n",
       "      <td>3</td>\n",
       "      <td>4</td>\n",
       "      <td>4</td>\n",
       "      <td>4</td>\n",
       "      <td>3</td>\n",
       "      <td>1</td>\n",
       "    </tr>\n",
       "    <tr>\n",
       "      <th>353</th>\n",
       "      <td>230000.0</td>\n",
       "      <td>0</td>\n",
       "      <td>0</td>\n",
       "      <td>0</td>\n",
       "      <td>-1</td>\n",
       "      <td>-1</td>\n",
       "      <td>-1</td>\n",
       "      <td>0</td>\n",
       "    </tr>\n",
       "    <tr>\n",
       "      <th>46</th>\n",
       "      <td>50000.0</td>\n",
       "      <td>0</td>\n",
       "      <td>0</td>\n",
       "      <td>0</td>\n",
       "      <td>0</td>\n",
       "      <td>0</td>\n",
       "      <td>0</td>\n",
       "      <td>0</td>\n",
       "    </tr>\n",
       "    <tr>\n",
       "      <th>653</th>\n",
       "      <td>80000.0</td>\n",
       "      <td>-1</td>\n",
       "      <td>-1</td>\n",
       "      <td>-1</td>\n",
       "      <td>-1</td>\n",
       "      <td>-1</td>\n",
       "      <td>-1</td>\n",
       "      <td>0</td>\n",
       "    </tr>\n",
       "    <tr>\n",
       "      <th>1123</th>\n",
       "      <td>90000.0</td>\n",
       "      <td>0</td>\n",
       "      <td>0</td>\n",
       "      <td>0</td>\n",
       "      <td>2</td>\n",
       "      <td>2</td>\n",
       "      <td>2</td>\n",
       "      <td>0</td>\n",
       "    </tr>\n",
       "  </tbody>\n",
       "</table>\n",
       "<p>593 rows × 8 columns</p>\n",
       "</div>"
      ],
      "text/plain": [
       "      limit_balance  pay_1  pay_2  pay_3  pay_4  pay_5  pay_6  payment\n",
       "1481       100000.0     -1     -1     -1      0     -1     -1        0\n",
       "1885        90000.0      2      0      0      0      0     -1        0\n",
       "492        500000.0     -2     -2     -2     -2     -2     -2        0\n",
       "2614       180000.0      0      0      0      0      0      0        0\n",
       "1916        80000.0      0      0      2      2      2      0        0\n",
       "...             ...    ...    ...    ...    ...    ...    ...      ...\n",
       "2097        30000.0      4      3      4      4      4      3        1\n",
       "353        230000.0      0      0      0     -1     -1     -1        0\n",
       "46          50000.0      0      0      0      0      0      0        0\n",
       "653         80000.0     -1     -1     -1     -1     -1     -1        0\n",
       "1123        90000.0      0      0      0      2      2      2        0\n",
       "\n",
       "[593 rows x 8 columns]"
      ]
     },
     "execution_count": 52,
     "metadata": {},
     "output_type": "execute_result"
    }
   ],
   "source": [
    "testing_cleaned = testing_cleaned[final]\n",
    "testing_cleaned"
   ]
  },
  {
   "cell_type": "markdown",
   "metadata": {},
   "source": [
    "### Scaling"
   ]
  },
  {
   "cell_type": "code",
   "execution_count": 53,
   "metadata": {},
   "outputs": [
    {
     "data": {
      "text/html": [
       "<div>\n",
       "<style scoped>\n",
       "    .dataframe tbody tr th:only-of-type {\n",
       "        vertical-align: middle;\n",
       "    }\n",
       "\n",
       "    .dataframe tbody tr th {\n",
       "        vertical-align: top;\n",
       "    }\n",
       "\n",
       "    .dataframe thead th {\n",
       "        text-align: right;\n",
       "    }\n",
       "</style>\n",
       "<table border=\"1\" class=\"dataframe\">\n",
       "  <thead>\n",
       "    <tr style=\"text-align: right;\">\n",
       "      <th></th>\n",
       "      <th>limit_balance</th>\n",
       "      <th>pay_1</th>\n",
       "      <th>pay_2</th>\n",
       "      <th>pay_3</th>\n",
       "      <th>pay_4</th>\n",
       "      <th>pay_5</th>\n",
       "      <th>pay_6</th>\n",
       "      <th>payment</th>\n",
       "    </tr>\n",
       "  </thead>\n",
       "  <tbody>\n",
       "    <tr>\n",
       "      <th>1481</th>\n",
       "      <td>0.183673</td>\n",
       "      <td>-1</td>\n",
       "      <td>-1</td>\n",
       "      <td>-1</td>\n",
       "      <td>0</td>\n",
       "      <td>-1</td>\n",
       "      <td>-1</td>\n",
       "      <td>0</td>\n",
       "    </tr>\n",
       "    <tr>\n",
       "      <th>1885</th>\n",
       "      <td>0.163265</td>\n",
       "      <td>2</td>\n",
       "      <td>0</td>\n",
       "      <td>0</td>\n",
       "      <td>0</td>\n",
       "      <td>0</td>\n",
       "      <td>-1</td>\n",
       "      <td>0</td>\n",
       "    </tr>\n",
       "    <tr>\n",
       "      <th>492</th>\n",
       "      <td>1.000000</td>\n",
       "      <td>-2</td>\n",
       "      <td>-2</td>\n",
       "      <td>-2</td>\n",
       "      <td>-2</td>\n",
       "      <td>-2</td>\n",
       "      <td>-2</td>\n",
       "      <td>0</td>\n",
       "    </tr>\n",
       "    <tr>\n",
       "      <th>2614</th>\n",
       "      <td>0.346939</td>\n",
       "      <td>0</td>\n",
       "      <td>0</td>\n",
       "      <td>0</td>\n",
       "      <td>0</td>\n",
       "      <td>0</td>\n",
       "      <td>0</td>\n",
       "      <td>0</td>\n",
       "    </tr>\n",
       "    <tr>\n",
       "      <th>1916</th>\n",
       "      <td>0.142857</td>\n",
       "      <td>0</td>\n",
       "      <td>0</td>\n",
       "      <td>2</td>\n",
       "      <td>2</td>\n",
       "      <td>2</td>\n",
       "      <td>0</td>\n",
       "      <td>0</td>\n",
       "    </tr>\n",
       "    <tr>\n",
       "      <th>...</th>\n",
       "      <td>...</td>\n",
       "      <td>...</td>\n",
       "      <td>...</td>\n",
       "      <td>...</td>\n",
       "      <td>...</td>\n",
       "      <td>...</td>\n",
       "      <td>...</td>\n",
       "      <td>...</td>\n",
       "    </tr>\n",
       "    <tr>\n",
       "      <th>2097</th>\n",
       "      <td>0.040816</td>\n",
       "      <td>4</td>\n",
       "      <td>3</td>\n",
       "      <td>4</td>\n",
       "      <td>4</td>\n",
       "      <td>4</td>\n",
       "      <td>3</td>\n",
       "      <td>1</td>\n",
       "    </tr>\n",
       "    <tr>\n",
       "      <th>353</th>\n",
       "      <td>0.448980</td>\n",
       "      <td>0</td>\n",
       "      <td>0</td>\n",
       "      <td>0</td>\n",
       "      <td>-1</td>\n",
       "      <td>-1</td>\n",
       "      <td>-1</td>\n",
       "      <td>0</td>\n",
       "    </tr>\n",
       "    <tr>\n",
       "      <th>46</th>\n",
       "      <td>0.081633</td>\n",
       "      <td>0</td>\n",
       "      <td>0</td>\n",
       "      <td>0</td>\n",
       "      <td>0</td>\n",
       "      <td>0</td>\n",
       "      <td>0</td>\n",
       "      <td>0</td>\n",
       "    </tr>\n",
       "    <tr>\n",
       "      <th>653</th>\n",
       "      <td>0.142857</td>\n",
       "      <td>-1</td>\n",
       "      <td>-1</td>\n",
       "      <td>-1</td>\n",
       "      <td>-1</td>\n",
       "      <td>-1</td>\n",
       "      <td>-1</td>\n",
       "      <td>0</td>\n",
       "    </tr>\n",
       "    <tr>\n",
       "      <th>1123</th>\n",
       "      <td>0.163265</td>\n",
       "      <td>0</td>\n",
       "      <td>0</td>\n",
       "      <td>0</td>\n",
       "      <td>2</td>\n",
       "      <td>2</td>\n",
       "      <td>2</td>\n",
       "      <td>0</td>\n",
       "    </tr>\n",
       "  </tbody>\n",
       "</table>\n",
       "<p>593 rows × 8 columns</p>\n",
       "</div>"
      ],
      "text/plain": [
       "      limit_balance  pay_1  pay_2  pay_3  pay_4  pay_5  pay_6  payment\n",
       "1481       0.183673     -1     -1     -1      0     -1     -1        0\n",
       "1885       0.163265      2      0      0      0      0     -1        0\n",
       "492        1.000000     -2     -2     -2     -2     -2     -2        0\n",
       "2614       0.346939      0      0      0      0      0      0        0\n",
       "1916       0.142857      0      0      2      2      2      0        0\n",
       "...             ...    ...    ...    ...    ...    ...    ...      ...\n",
       "2097       0.040816      4      3      4      4      4      3        1\n",
       "353        0.448980      0      0      0     -1     -1     -1        0\n",
       "46         0.081633      0      0      0      0      0      0        0\n",
       "653        0.142857     -1     -1     -1     -1     -1     -1        0\n",
       "1123       0.163265      0      0      0      2      2      2        0\n",
       "\n",
       "[593 rows x 8 columns]"
      ]
     },
     "execution_count": 53,
     "metadata": {},
     "output_type": "execute_result"
    }
   ],
   "source": [
    "testing_cleaned[num_col_final] = scaler.transform(testing_cleaned[num_col_final])\n",
    "testing_cleaned"
   ]
  },
  {
   "cell_type": "markdown",
   "metadata": {},
   "source": [
    "`Setelah semua data testing dilakukan yang sama seperti training, maka data testing sudah siap sebagai bahan evaluasi untuk model yang sudah dilatih`"
   ]
  },
  {
   "cell_type": "code",
   "execution_count": 54,
   "metadata": {},
   "outputs": [],
   "source": [
    "X_train = df_eda_cleaned.drop('payment',axis=1).copy()\n",
    "y_train = df_eda_cleaned['payment']\n",
    "\n",
    "X_test = testing_cleaned.drop('payment',axis=1).copy()\n",
    "y_test = testing_cleaned['payment']"
   ]
  },
  {
   "cell_type": "markdown",
   "metadata": {},
   "source": [
    "### Cross Validation"
   ]
  },
  {
   "cell_type": "markdown",
   "metadata": {},
   "source": [
    "`Selanjutnya mencari nilai accuracy mean dan standar deviasi pada setiap model menggunakan cross validation`"
   ]
  },
  {
   "cell_type": "code",
   "execution_count": 55,
   "metadata": {},
   "outputs": [
    {
     "name": "stdout",
     "output_type": "stream",
     "text": [
      "Accuracy- All - Cross Validation  :  [0.83544304 0.8278481  0.83396705]\n",
      "Accuracy- Mean - Cross Validation :  0.8324193953784366\n",
      "Accuracy- Std - Cross Validation  :  0.0032880779405791557\n"
     ]
    }
   ],
   "source": [
    "log_model = LogisticRegression()\n",
    "log_cv = cross_val_score(log_model, \n",
    "                         X_train, \n",
    "                         y_train, \n",
    "                         cv=3, \n",
    "                         scoring='accuracy')\n",
    "\n",
    "print('Accuracy- All - Cross Validation  : ', log_cv)\n",
    "print('Accuracy- Mean - Cross Validation : ', log_cv.mean())\n",
    "print('Accuracy- Std - Cross Validation  : ', log_cv.std())"
   ]
  },
  {
   "cell_type": "code",
   "execution_count": 56,
   "metadata": {},
   "outputs": [
    {
     "name": "stdout",
     "output_type": "stream",
     "text": [
      "Accuracy - All - Cross Validation  :  [0.83544304 0.82151899 0.84917617]\n",
      "Accuracy - Mean - Cross Validation :  0.8353793992288482\n",
      "Accuracy - Std - Cross Validation  :  0.01129108817726358\n"
     ]
    }
   ],
   "source": [
    "svc_model = SVC()\n",
    "svc_cv = cross_val_score(svc_model, \n",
    "                         X_train, \n",
    "                         y_train, \n",
    "                         cv=3, \n",
    "                         scoring='accuracy')\n",
    "\n",
    "print('Accuracy - All - Cross Validation  : ', svc_cv)\n",
    "print('Accuracy - Mean - Cross Validation : ', svc_cv.mean())\n",
    "print('Accuracy - Std - Cross Validation  : ', svc_cv.std())"
   ]
  },
  {
   "cell_type": "code",
   "execution_count": 57,
   "metadata": {},
   "outputs": [
    {
     "name": "stdout",
     "output_type": "stream",
     "text": [
      "Accuracy - All - Cross Validation  :  [0.81392405 0.78987342 0.78200253]\n",
      "Accuracy - Mean - Cross Validation :  0.7952666677362256\n",
      "Accuracy - Std - Cross Validation  :  0.013578442514828334\n"
     ]
    }
   ],
   "source": [
    "dt_model = DecisionTreeClassifier()\n",
    "dt_cv = cross_val_score(dt_model, \n",
    "                         X_train, \n",
    "                         y_train, \n",
    "                         cv=3, \n",
    "                         scoring='accuracy')\n",
    "\n",
    "print('Accuracy - All - Cross Validation  : ', dt_cv)\n",
    "print('Accuracy - Mean - Cross Validation : ', dt_cv.mean())\n",
    "print('Accuracy - Std - Cross Validation  : ', dt_cv.std())"
   ]
  },
  {
   "cell_type": "code",
   "execution_count": 58,
   "metadata": {},
   "outputs": [
    {
     "name": "stdout",
     "output_type": "stream",
     "text": [
      "Accuracy - All - Cross Validation  :  [0.80886076 0.80506329 0.80735108]\n",
      "Accuracy - Mean - Cross Validation :  0.8070917093153219\n",
      "Accuracy - Std - Cross Validation  :  0.0015611203870748178\n"
     ]
    }
   ],
   "source": [
    "rf_model = RandomForestClassifier()\n",
    "rf_cv = cross_val_score(rf_model, \n",
    "                         X_train, \n",
    "                         y_train, \n",
    "                         cv=3, \n",
    "                         scoring='accuracy')\n",
    "\n",
    "print('Accuracy - All - Cross Validation  : ', rf_cv)\n",
    "print('Accuracy - Mean - Cross Validation : ', rf_cv.mean())\n",
    "print('Accuracy - Std - Cross Validation  : ', rf_cv.std())"
   ]
  },
  {
   "cell_type": "code",
   "execution_count": 59,
   "metadata": {},
   "outputs": [
    {
     "name": "stdout",
     "output_type": "stream",
     "text": [
      "Accuracy - All - Cross Validation  :  [0.83544304 0.81012658 0.82129278]\n",
      "Accuracy - Mean - Cross Validation :  0.8222874653061879\n",
      "Accuracy - Std - Cross Validation  :  0.010359304605540727\n"
     ]
    }
   ],
   "source": [
    "knn_model = KNeighborsClassifier()\n",
    "knn_cv = cross_val_score(knn_model, \n",
    "                         X_train, \n",
    "                         y_train, \n",
    "                         cv=3, \n",
    "                         scoring='accuracy')\n",
    "\n",
    "print('Accuracy - All - Cross Validation  : ', knn_cv)\n",
    "print('Accuracy - Mean - Cross Validation : ', knn_cv.mean())\n",
    "print('Accuracy - Std - Cross Validation  : ', knn_cv.std())"
   ]
  },
  {
   "cell_type": "code",
   "execution_count": 60,
   "metadata": {},
   "outputs": [
    {
     "name": "stdout",
     "output_type": "stream",
     "text": [
      "Accuracy - All - Cross Validation  :  [0.81265823 0.8        0.81368821]\n",
      "Accuracy - Mean - Cross Validation :  0.808782146925286\n",
      "Accuracy - Std - Cross Validation  :  0.006224135590803487\n"
     ]
    }
   ],
   "source": [
    "nb_model = GaussianNB()\n",
    "nb_cv = cross_val_score(nb_model, \n",
    "                         X_train, \n",
    "                         y_train, \n",
    "                         cv=3, \n",
    "                         scoring='accuracy')\n",
    "\n",
    "print('Accuracy - All - Cross Validation  : ', nb_cv)\n",
    "print('Accuracy - Mean - Cross Validation : ', nb_cv.mean())\n",
    "print('Accuracy - Std - Cross Validation  : ', nb_cv.std())"
   ]
  },
  {
   "cell_type": "code",
   "execution_count": 61,
   "metadata": {},
   "outputs": [
    {
     "name": "stdout",
     "output_type": "stream",
     "text": [
      "Accuracy - All - Cross Validation  :  [0.83037975 0.83797468 0.83396705]\n",
      "Accuracy - Mean - Cross Validation :  0.8341071590915168\n",
      "Accuracy - Std - Cross Validation  :  0.0031022023868698184\n"
     ]
    }
   ],
   "source": [
    "ab_model = AdaBoostClassifier()\n",
    "ab_cv = cross_val_score(ab_model, \n",
    "                         X_train, \n",
    "                         y_train, \n",
    "                         cv=3, \n",
    "                         scoring='accuracy')\n",
    "\n",
    "print('Accuracy - All - Cross Validation  : ', ab_cv)\n",
    "print('Accuracy - Mean - Cross Validation : ', ab_cv.mean())\n",
    "print('Accuracy - Std - Cross Validation  : ', ab_cv.std())"
   ]
  },
  {
   "cell_type": "code",
   "execution_count": 62,
   "metadata": {},
   "outputs": [
    {
     "name": "stdout",
     "output_type": "stream",
     "text": [
      "========== Logistic Regresion ==========\n",
      "Accuracy - Mean - Cross Validation :  0.8324193953784366\n",
      "Accuracy - Std - Cross Validation  :  0.0032880779405791557\n",
      "========== SVC ==========\n",
      "Accuracy - Mean - Cross Validation :  0.8353793992288482\n",
      "Accuracy - Std - Cross Validation  :  0.01129108817726358\n",
      "========== Decision Tree ==========\n",
      "Accuracy - Mean - Cross Validation :  0.7952666677362256\n",
      "Accuracy - Std - Cross Validation  :  0.013578442514828334\n",
      "========== Random Forest ==========\n",
      "Accuracy - Mean - Cross Validation :  0.8070917093153219\n",
      "Accuracy - Std - Cross Validation  :  0.0015611203870748178\n",
      "========== KNN ==========\n",
      "Accuracy - Mean - Cross Validation :  0.8222874653061879\n",
      "Accuracy - Std - Cross Validation  :  0.010359304605540727\n",
      "========== Naive Bayes ==========\n",
      "Accuracy - Mean - Cross Validation :  0.808782146925286\n",
      "Accuracy - Std - Cross Validation  :  0.006224135590803487\n",
      "========== AdaBoost ==========\n",
      "Accuracy - Mean - Cross Validation :  0.8341071590915168\n",
      "Accuracy - Std - Cross Validation  :  0.0031022023868698184\n"
     ]
    }
   ],
   "source": [
    "print(\"=\"*10,\"Logistic Regresion\",\"=\"*10)\n",
    "print('Accuracy - Mean - Cross Validation : ', log_cv.mean())\n",
    "print('Accuracy - Std - Cross Validation  : ', log_cv.std())\n",
    "\n",
    "print(\"=\"*10,\"SVC\",\"=\"*10)\n",
    "print('Accuracy - Mean - Cross Validation : ', svc_cv.mean())\n",
    "print('Accuracy - Std - Cross Validation  : ', svc_cv.std())\n",
    "\n",
    "print(\"=\"*10,\"Decision Tree\",\"=\"*10)\n",
    "print('Accuracy - Mean - Cross Validation : ', dt_cv.mean())\n",
    "print('Accuracy - Std - Cross Validation  : ', dt_cv.std())\n",
    "\n",
    "print(\"=\"*10,\"Random Forest\",\"=\"*10)\n",
    "print('Accuracy - Mean - Cross Validation : ', rf_cv.mean())\n",
    "print('Accuracy - Std - Cross Validation  : ', rf_cv.std())\n",
    "\n",
    "print(\"=\"*10,\"KNN\",\"=\"*10)\n",
    "print('Accuracy - Mean - Cross Validation : ', knn_cv.mean())\n",
    "print('Accuracy - Std - Cross Validation  : ', knn_cv.std())\n",
    "\n",
    "print(\"=\"*10,\"Naive Bayes\",\"=\"*10)\n",
    "print('Accuracy - Mean - Cross Validation : ', nb_cv.mean())\n",
    "print('Accuracy - Std - Cross Validation  : ', nb_cv.std())\n",
    "\n",
    "print(\"=\"*10,\"AdaBoost\",\"=\"*10)\n",
    "print('Accuracy - Mean - Cross Validation : ', ab_cv.mean())\n",
    "print('Accuracy - Std - Cross Validation  : ', ab_cv.std())\n",
    "\n"
   ]
  },
  {
   "cell_type": "markdown",
   "metadata": {},
   "source": [
    "`Berdasarkan hasil mean dan standar deviasi accuracynya dari cross validation di setiap modelnya, model yang terbaik adalah AdaBoost dengan nilai mean accuracynya 0,8341 dan standar deviasinya 0,0031. Pada model AdaBoost paling konsisten dibanding model lainnya dilihat dari nilai standar deviasinya. Tetapi untuk mean accuracynya yang paling tinggi adalah SVC yaitu 0,8353 hanya selisih 0,001 dengan AdaBoost. Tetapi model SVC mempunyai nilai standar deviasi 0,0112 yang dikatakan tidak lebih konsisten dari model AdaBoost. Sehingga model AdaBoost menjadi model terbaik dengan hyperparameter default`"
   ]
  },
  {
   "cell_type": "markdown",
   "metadata": {},
   "source": [
    "## vi. Model Definition & Training"
   ]
  },
  {
   "cell_type": "markdown",
   "metadata": {},
   "source": [
    "`Selanjutnya mencari hyperparameter pada model AdaBoost menggunakan GridSearchCV`"
   ]
  },
  {
   "cell_type": "markdown",
   "metadata": {},
   "source": [
    "### Hyper-param Tuning"
   ]
  },
  {
   "cell_type": "code",
   "execution_count": 63,
   "metadata": {},
   "outputs": [
    {
     "data": {
      "text/plain": [
       "GridSearchCV(cv=3, estimator=AdaBoostClassifier(),\n",
       "             param_grid=[{'algorithm': ['SAMME', 'SAMME.R'],\n",
       "                          'learning_rate': [0.01, 0.1, 1],\n",
       "                          'n_estimators': [100, 150, 200, 300],\n",
       "                          'random_state': [1, 10, 100]}],\n",
       "             return_train_score=True, scoring='accuracy')"
      ]
     },
     "execution_count": 63,
     "metadata": {},
     "output_type": "execute_result"
    }
   ],
   "source": [
    "params = [\n",
    "    {'n_estimators': [100,150,200,300],    #4                                       \n",
    "     'learning_rate': [0.01,0.1,1],        #4    \n",
    "     'random_state':[1,10,100],            #3\n",
    "     'algorithm':['SAMME', 'SAMME.R'] }    #2   4*4*3*2=96 kombinasi      \n",
    "  ]\n",
    "\n",
    "grid_search = GridSearchCV(ab_model, params, cv=3,\n",
    "                           scoring='accuracy',\n",
    "                           return_train_score=True)\n",
    "grid_search.fit(X_train, y_train)"
   ]
  },
  {
   "cell_type": "code",
   "execution_count": 64,
   "metadata": {},
   "outputs": [
    {
     "data": {
      "text/plain": [
       "(72, 20)"
      ]
     },
     "execution_count": 64,
     "metadata": {},
     "output_type": "execute_result"
    }
   ],
   "source": [
    "pd.DataFrame(grid_search.cv_results_).shape"
   ]
  },
  {
   "cell_type": "code",
   "execution_count": 65,
   "metadata": {},
   "outputs": [
    {
     "data": {
      "text/plain": [
       "{'algorithm': 'SAMME.R',\n",
       " 'learning_rate': 0.1,\n",
       " 'n_estimators': 100,\n",
       " 'random_state': 10}"
      ]
     },
     "execution_count": 65,
     "metadata": {},
     "output_type": "execute_result"
    }
   ],
   "source": [
    "grid_search.best_params_"
   ]
  },
  {
   "cell_type": "code",
   "execution_count": 66,
   "metadata": {},
   "outputs": [
    {
     "data": {
      "text/plain": [
       "0.8433941377484718"
      ]
     },
     "execution_count": 66,
     "metadata": {},
     "output_type": "execute_result"
    }
   ],
   "source": [
    "grid_search.best_score_"
   ]
  },
  {
   "cell_type": "markdown",
   "metadata": {},
   "source": [
    "`Setalah melakukan hyperparameter tuning, didapatkan hyperparameter terbaik pada model AdaBoost yaitu menggunakan algorithm SAMME.R, lalu learning rate sebesar 0.1, n estimator sebanyak 100 dan random statenya 10. Dari hyperparameter tersebut didapat hasil terbaiknya yaitu 0,8433 sedikit lebih baik dibanding denga paramter default saja. Sehingga selanjutnya model yang dipakai adalah AdaBoost dengan Hyperparamet yang telah di tuning sebelumnya`"
   ]
  },
  {
   "cell_type": "code",
   "execution_count": 67,
   "metadata": {},
   "outputs": [],
   "source": [
    "ab_model_final = grid_search.best_estimator_"
   ]
  },
  {
   "cell_type": "markdown",
   "metadata": {},
   "source": [
    "## vii. Model Evaluation"
   ]
  },
  {
   "cell_type": "markdown",
   "metadata": {},
   "source": [
    "`Setelah didapatkan model dan hyperparameter yang digunakan, selanjutnya dievaluasi model tersebut menggunakan hasil prediksi pada training dan testing`"
   ]
  },
  {
   "cell_type": "code",
   "execution_count": 68,
   "metadata": {},
   "outputs": [
    {
     "name": "stdout",
     "output_type": "stream",
     "text": [
      "========== TRAINING ==========\n",
      "              precision    recall  f1-score   support\n",
      "\n",
      "           0       0.86      0.96      0.91      1862\n",
      "           1       0.75      0.40      0.53       507\n",
      "\n",
      "    accuracy                           0.84      2369\n",
      "   macro avg       0.80      0.68      0.72      2369\n",
      "weighted avg       0.83      0.84      0.83      2369\n",
      "\n",
      "========== TEST ==========\n",
      "              precision    recall  f1-score   support\n",
      "\n",
      "           0       0.84      0.94      0.89       466\n",
      "           1       0.61      0.37      0.46       127\n",
      "\n",
      "    accuracy                           0.81       593\n",
      "   macro avg       0.73      0.65      0.67       593\n",
      "weighted avg       0.79      0.81      0.80       593\n",
      "\n"
     ]
    }
   ],
   "source": [
    "y_pred_train = ab_model_final.predict(X_train)\n",
    "y_pred_test = ab_model_final.predict(X_test)\n",
    "\n",
    "print(\"=\"*10,\"TRAINING\",\"=\"*10)\n",
    "print(classification_report(y_train,y_pred_train))\n",
    "print(\"=\"*10,\"TEST\",\"=\"*10)\n",
    "print(classification_report(y_test,y_pred_test))"
   ]
  },
  {
   "cell_type": "markdown",
   "metadata": {},
   "source": [
    "`Berikut hasil confusion matrixnya`"
   ]
  },
  {
   "cell_type": "code",
   "execution_count": 93,
   "metadata": {},
   "outputs": [
    {
     "data": {
      "text/plain": [
       "Text(0.5, 1.0, 'Counfusion Matrix Training')"
      ]
     },
     "execution_count": 93,
     "metadata": {},
     "output_type": "execute_result"
    },
    {
     "data": {
      "image/png": "[encoded data removed]",
      "text/plain": [
       "<Figure size 432x288 with 2 Axes>"
      ]
     },
     "metadata": {
      "needs_background": "light"
     },
     "output_type": "display_data"
    }
   ],
   "source": [
    "cm_p = confusion_matrix(y_train, y_pred_train, labels=ab_model_final.classes_)\n",
    "disp = ConfusionMatrixDisplay(confusion_matrix=cm_p,display_labels=ab_model_final.classes_)\n",
    "disp.plot()\n",
    "plt.title('Counfusion Matrix Training')"
   ]
  },
  {
   "cell_type": "code",
   "execution_count": 94,
   "metadata": {},
   "outputs": [
    {
     "data": {
      "text/plain": [
       "Text(0.5, 1.0, 'Counfusion Matrix Testing')"
      ]
     },
     "execution_count": 94,
     "metadata": {},
     "output_type": "execute_result"
    },
    {
     "data": {
      "image/png": "[encoded data removed]",
      "text/plain": [
       "<Figure size 432x288 with 2 Axes>"
      ]
     },
     "metadata": {
      "needs_background": "light"
     },
     "output_type": "display_data"
    }
   ],
   "source": [
    "cm = confusion_matrix(y_test, y_pred_test, labels=ab_model_final.classes_)\n",
    "disp = ConfusionMatrixDisplay(confusion_matrix=cm,display_labels=ab_model_final.classes_)\n",
    "disp.plot()\n",
    "plt.title('Counfusion Matrix Testing')"
   ]
  },
  {
   "cell_type": "markdown",
   "metadata": {},
   "source": [
    "`Hasil evaluasi yang didapat adalah`\n",
    "- Kelas default atau 1 mempunyai distribusi lebih sedikit dibanding kelas 0 atau tidak default. Sehingga data tersebut dikatakan imbalance dengan fokus atau positifnya pada kelas 1 dikarenakan kelas tersebut minoritas.\n",
    "- Dilihat dari point of view pihak bank, urgensi data akan berakibat fatal jika hasil prediksi model adalah memprediksi orang tersebut tidak default atau bayar tepat waktu sedangkan pada kenyataan datanya orang tersebut telat atau menunggak pembayaran tagihan kreditnya. Jika terjadi prediksi tersebut, itu akan sangat merugikan pihak bank. Sehingga sangat dihindari kesalahan prediksi seperti tersebut dengan memerhatikan nilai recall kelas default pada classification report agar mendekati 1\n",
    "- Berdasarkan penjelasan diatas, model dievaluasi berdasarkan nilai recall di kelas default atau 1\n",
    "- Hasil dari evaluasi model terbilang tidak cukup bagus untuk urgensi yang telah disebutkan sebelumnya. Dikarenakan nilai recall kelas defaultnya masih dibawah 0.5\n",
    "- Model AdaBoost mempunyai bentuk overfit, dikarenakan recall pada data training mempunyai nilai 0.40 sedangkan nilai recall pada data testing adalah 0.37\n",
    "- Pada confusion matrix diatas, presentase model lebih banyak menebak kelas tidak default atau 0 dengan benar dibandingkan model menebak kelas default atau 1 dengan benar "
   ]
  },
  {
   "cell_type": "markdown",
   "metadata": {},
   "source": [
    "## viii. Model Inference "
   ]
  },
  {
   "cell_type": "markdown",
   "metadata": {},
   "source": [
    "`Selanjutnya menggunakan data inference untuk membuktikan model tersebut sudah bisa diimplementasikan ke data aslinya atau belum`"
   ]
  },
  {
   "cell_type": "code",
   "execution_count": 70,
   "metadata": {},
   "outputs": [
    {
     "data": {
      "text/html": [
       "<div>\n",
       "<style scoped>\n",
       "    .dataframe tbody tr th:only-of-type {\n",
       "        vertical-align: middle;\n",
       "    }\n",
       "\n",
       "    .dataframe tbody tr th {\n",
       "        vertical-align: top;\n",
       "    }\n",
       "\n",
       "    .dataframe thead th {\n",
       "        text-align: right;\n",
       "    }\n",
       "</style>\n",
       "<table border=\"1\" class=\"dataframe\">\n",
       "  <thead>\n",
       "    <tr style=\"text-align: right;\">\n",
       "      <th></th>\n",
       "      <th>limit_balance</th>\n",
       "      <th>sex</th>\n",
       "      <th>education_level</th>\n",
       "      <th>marital_status</th>\n",
       "      <th>age</th>\n",
       "      <th>pay_1</th>\n",
       "      <th>pay_2</th>\n",
       "      <th>pay_3</th>\n",
       "      <th>pay_4</th>\n",
       "      <th>pay_5</th>\n",
       "      <th>...</th>\n",
       "      <th>bill_amt_4</th>\n",
       "      <th>bill_amt_5</th>\n",
       "      <th>bill_amt_6</th>\n",
       "      <th>pay_amt_1</th>\n",
       "      <th>pay_amt_2</th>\n",
       "      <th>pay_amt_3</th>\n",
       "      <th>pay_amt_4</th>\n",
       "      <th>pay_amt_5</th>\n",
       "      <th>pay_amt_6</th>\n",
       "      <th>payment</th>\n",
       "    </tr>\n",
       "  </thead>\n",
       "  <tbody>\n",
       "    <tr>\n",
       "      <th>1766</th>\n",
       "      <td>180000</td>\n",
       "      <td>2</td>\n",
       "      <td>1</td>\n",
       "      <td>1</td>\n",
       "      <td>38</td>\n",
       "      <td>-2</td>\n",
       "      <td>-2</td>\n",
       "      <td>-2</td>\n",
       "      <td>-2</td>\n",
       "      <td>-2</td>\n",
       "      <td>...</td>\n",
       "      <td>0</td>\n",
       "      <td>0</td>\n",
       "      <td>0</td>\n",
       "      <td>0</td>\n",
       "      <td>0</td>\n",
       "      <td>0</td>\n",
       "      <td>0</td>\n",
       "      <td>0</td>\n",
       "      <td>0</td>\n",
       "      <td>0</td>\n",
       "    </tr>\n",
       "    <tr>\n",
       "      <th>525</th>\n",
       "      <td>200000</td>\n",
       "      <td>2</td>\n",
       "      <td>2</td>\n",
       "      <td>1</td>\n",
       "      <td>27</td>\n",
       "      <td>1</td>\n",
       "      <td>3</td>\n",
       "      <td>2</td>\n",
       "      <td>2</td>\n",
       "      <td>2</td>\n",
       "      <td>...</td>\n",
       "      <td>174547</td>\n",
       "      <td>181454</td>\n",
       "      <td>177141</td>\n",
       "      <td>5200</td>\n",
       "      <td>7000</td>\n",
       "      <td>0</td>\n",
       "      <td>13300</td>\n",
       "      <td>0</td>\n",
       "      <td>6200</td>\n",
       "      <td>1</td>\n",
       "    </tr>\n",
       "  </tbody>\n",
       "</table>\n",
       "<p>2 rows × 24 columns</p>\n",
       "</div>"
      ],
      "text/plain": [
       "      limit_balance  sex  education_level  marital_status  age  pay_1  pay_2  \\\n",
       "1766         180000    2                1               1   38     -2     -2   \n",
       "525          200000    2                2               1   27      1      3   \n",
       "\n",
       "      pay_3  pay_4  pay_5  ...  bill_amt_4  bill_amt_5  bill_amt_6  pay_amt_1  \\\n",
       "1766     -2     -2     -2  ...           0           0           0          0   \n",
       "525       2      2      2  ...      174547      181454      177141       5200   \n",
       "\n",
       "      pay_amt_2  pay_amt_3  pay_amt_4  pay_amt_5  pay_amt_6  payment  \n",
       "1766          0          0          0          0          0        0  \n",
       "525        7000          0      13300          0       6200        1  \n",
       "\n",
       "[2 rows x 24 columns]"
      ]
     },
     "execution_count": 70,
     "metadata": {},
     "output_type": "execute_result"
    }
   ],
   "source": [
    "df_inf"
   ]
  },
  {
   "cell_type": "markdown",
   "metadata": {},
   "source": [
    "`sebelum dilakukan prediksi data inference menggunakan model yang sudah dibuat, data inference tersebut dilakukan feature enginering yang sama persis dengan testing`"
   ]
  },
  {
   "cell_type": "markdown",
   "metadata": {},
   "source": [
    "### Outlier Handling"
   ]
  },
  {
   "cell_type": "code",
   "execution_count": 71,
   "metadata": {},
   "outputs": [
    {
     "data": {
      "text/html": [
       "<div>\n",
       "<style scoped>\n",
       "    .dataframe tbody tr th:only-of-type {\n",
       "        vertical-align: middle;\n",
       "    }\n",
       "\n",
       "    .dataframe tbody tr th {\n",
       "        vertical-align: top;\n",
       "    }\n",
       "\n",
       "    .dataframe thead th {\n",
       "        text-align: right;\n",
       "    }\n",
       "</style>\n",
       "<table border=\"1\" class=\"dataframe\">\n",
       "  <thead>\n",
       "    <tr style=\"text-align: right;\">\n",
       "      <th></th>\n",
       "      <th>limit_balance</th>\n",
       "      <th>sex</th>\n",
       "      <th>education_level</th>\n",
       "      <th>marital_status</th>\n",
       "      <th>age</th>\n",
       "      <th>pay_1</th>\n",
       "      <th>pay_2</th>\n",
       "      <th>pay_3</th>\n",
       "      <th>pay_4</th>\n",
       "      <th>pay_5</th>\n",
       "      <th>...</th>\n",
       "      <th>bill_amt_4</th>\n",
       "      <th>bill_amt_5</th>\n",
       "      <th>bill_amt_6</th>\n",
       "      <th>pay_amt_1</th>\n",
       "      <th>pay_amt_2</th>\n",
       "      <th>pay_amt_3</th>\n",
       "      <th>pay_amt_4</th>\n",
       "      <th>pay_amt_5</th>\n",
       "      <th>pay_amt_6</th>\n",
       "      <th>payment</th>\n",
       "    </tr>\n",
       "  </thead>\n",
       "  <tbody>\n",
       "    <tr>\n",
       "      <th>1766</th>\n",
       "      <td>180000</td>\n",
       "      <td>2</td>\n",
       "      <td>1</td>\n",
       "      <td>1</td>\n",
       "      <td>38</td>\n",
       "      <td>-2</td>\n",
       "      <td>-2</td>\n",
       "      <td>-2</td>\n",
       "      <td>-2</td>\n",
       "      <td>-2</td>\n",
       "      <td>...</td>\n",
       "      <td>0</td>\n",
       "      <td>0</td>\n",
       "      <td>0</td>\n",
       "      <td>0</td>\n",
       "      <td>0</td>\n",
       "      <td>0</td>\n",
       "      <td>0</td>\n",
       "      <td>0</td>\n",
       "      <td>0</td>\n",
       "      <td>0</td>\n",
       "    </tr>\n",
       "    <tr>\n",
       "      <th>525</th>\n",
       "      <td>200000</td>\n",
       "      <td>2</td>\n",
       "      <td>2</td>\n",
       "      <td>1</td>\n",
       "      <td>27</td>\n",
       "      <td>1</td>\n",
       "      <td>3</td>\n",
       "      <td>2</td>\n",
       "      <td>2</td>\n",
       "      <td>2</td>\n",
       "      <td>...</td>\n",
       "      <td>174547</td>\n",
       "      <td>181454</td>\n",
       "      <td>177141</td>\n",
       "      <td>5200</td>\n",
       "      <td>7000</td>\n",
       "      <td>0</td>\n",
       "      <td>13300</td>\n",
       "      <td>0</td>\n",
       "      <td>6200</td>\n",
       "      <td>1</td>\n",
       "    </tr>\n",
       "  </tbody>\n",
       "</table>\n",
       "<p>2 rows × 24 columns</p>\n",
       "</div>"
      ],
      "text/plain": [
       "      limit_balance  sex  education_level  marital_status  age  pay_1  pay_2  \\\n",
       "1766         180000    2                1               1   38     -2     -2   \n",
       "525          200000    2                2               1   27      1      3   \n",
       "\n",
       "      pay_3  pay_4  pay_5  ...  bill_amt_4  bill_amt_5  bill_amt_6  pay_amt_1  \\\n",
       "1766     -2     -2     -2  ...           0           0           0          0   \n",
       "525       2      2      2  ...      174547      181454      177141       5200   \n",
       "\n",
       "      pay_amt_2  pay_amt_3  pay_amt_4  pay_amt_5  pay_amt_6  payment  \n",
       "1766          0          0          0          0          0        0  \n",
       "525        7000          0      13300          0       6200        1  \n",
       "\n",
       "[2 rows x 24 columns]"
      ]
     },
     "execution_count": 71,
     "metadata": {},
     "output_type": "execute_result"
    }
   ],
   "source": [
    "inf_cleaned = wins_norm.transform(df_inf)\n",
    "inf_cleaned.head()"
   ]
  },
  {
   "cell_type": "code",
   "execution_count": 72,
   "metadata": {},
   "outputs": [
    {
     "data": {
      "text/html": [
       "<div>\n",
       "<style scoped>\n",
       "    .dataframe tbody tr th:only-of-type {\n",
       "        vertical-align: middle;\n",
       "    }\n",
       "\n",
       "    .dataframe tbody tr th {\n",
       "        vertical-align: top;\n",
       "    }\n",
       "\n",
       "    .dataframe thead th {\n",
       "        text-align: right;\n",
       "    }\n",
       "</style>\n",
       "<table border=\"1\" class=\"dataframe\">\n",
       "  <thead>\n",
       "    <tr style=\"text-align: right;\">\n",
       "      <th></th>\n",
       "      <th>limit_balance</th>\n",
       "      <th>pay_1</th>\n",
       "      <th>pay_2</th>\n",
       "      <th>pay_3</th>\n",
       "      <th>pay_4</th>\n",
       "      <th>pay_5</th>\n",
       "      <th>pay_6</th>\n",
       "      <th>payment</th>\n",
       "    </tr>\n",
       "  </thead>\n",
       "  <tbody>\n",
       "    <tr>\n",
       "      <th>1766</th>\n",
       "      <td>180000</td>\n",
       "      <td>-2</td>\n",
       "      <td>-2</td>\n",
       "      <td>-2</td>\n",
       "      <td>-2</td>\n",
       "      <td>-2</td>\n",
       "      <td>-2</td>\n",
       "      <td>0</td>\n",
       "    </tr>\n",
       "    <tr>\n",
       "      <th>525</th>\n",
       "      <td>200000</td>\n",
       "      <td>1</td>\n",
       "      <td>3</td>\n",
       "      <td>2</td>\n",
       "      <td>2</td>\n",
       "      <td>2</td>\n",
       "      <td>2</td>\n",
       "      <td>1</td>\n",
       "    </tr>\n",
       "  </tbody>\n",
       "</table>\n",
       "</div>"
      ],
      "text/plain": [
       "      limit_balance  pay_1  pay_2  pay_3  pay_4  pay_5  pay_6  payment\n",
       "1766         180000     -2     -2     -2     -2     -2     -2        0\n",
       "525          200000      1      3      2      2      2      2        1"
      ]
     },
     "execution_count": 72,
     "metadata": {},
     "output_type": "execute_result"
    }
   ],
   "source": [
    "inf_cleaned = inf_cleaned[final]\n",
    "inf_cleaned"
   ]
  },
  {
   "cell_type": "markdown",
   "metadata": {},
   "source": [
    "### Scaling"
   ]
  },
  {
   "cell_type": "code",
   "execution_count": 73,
   "metadata": {},
   "outputs": [
    {
     "data": {
      "text/html": [
       "<div>\n",
       "<style scoped>\n",
       "    .dataframe tbody tr th:only-of-type {\n",
       "        vertical-align: middle;\n",
       "    }\n",
       "\n",
       "    .dataframe tbody tr th {\n",
       "        vertical-align: top;\n",
       "    }\n",
       "\n",
       "    .dataframe thead th {\n",
       "        text-align: right;\n",
       "    }\n",
       "</style>\n",
       "<table border=\"1\" class=\"dataframe\">\n",
       "  <thead>\n",
       "    <tr style=\"text-align: right;\">\n",
       "      <th></th>\n",
       "      <th>limit_balance</th>\n",
       "      <th>pay_1</th>\n",
       "      <th>pay_2</th>\n",
       "      <th>pay_3</th>\n",
       "      <th>pay_4</th>\n",
       "      <th>pay_5</th>\n",
       "      <th>pay_6</th>\n",
       "      <th>payment</th>\n",
       "    </tr>\n",
       "  </thead>\n",
       "  <tbody>\n",
       "    <tr>\n",
       "      <th>1766</th>\n",
       "      <td>0.346939</td>\n",
       "      <td>-2</td>\n",
       "      <td>-2</td>\n",
       "      <td>-2</td>\n",
       "      <td>-2</td>\n",
       "      <td>-2</td>\n",
       "      <td>-2</td>\n",
       "      <td>0</td>\n",
       "    </tr>\n",
       "    <tr>\n",
       "      <th>525</th>\n",
       "      <td>0.387755</td>\n",
       "      <td>1</td>\n",
       "      <td>3</td>\n",
       "      <td>2</td>\n",
       "      <td>2</td>\n",
       "      <td>2</td>\n",
       "      <td>2</td>\n",
       "      <td>1</td>\n",
       "    </tr>\n",
       "  </tbody>\n",
       "</table>\n",
       "</div>"
      ],
      "text/plain": [
       "      limit_balance  pay_1  pay_2  pay_3  pay_4  pay_5  pay_6  payment\n",
       "1766       0.346939     -2     -2     -2     -2     -2     -2        0\n",
       "525        0.387755      1      3      2      2      2      2        1"
      ]
     },
     "execution_count": 73,
     "metadata": {},
     "output_type": "execute_result"
    }
   ],
   "source": [
    "inf_cleaned[num_col_final] = scaler.transform(inf_cleaned[num_col_final])\n",
    "inf_cleaned"
   ]
  },
  {
   "cell_type": "code",
   "execution_count": 74,
   "metadata": {},
   "outputs": [
    {
     "data": {
      "text/plain": [
       "(2, 8)"
      ]
     },
     "execution_count": 74,
     "metadata": {},
     "output_type": "execute_result"
    }
   ],
   "source": [
    "inf_cleaned.shape"
   ]
  },
  {
   "cell_type": "markdown",
   "metadata": {},
   "source": [
    "`Setelah dilakukan outlier handling dan scaling yang sama persis dengan testing, maka data inference siap dilakukan prediksi kelas payment di model yang sudah dibuat`"
   ]
  },
  {
   "cell_type": "code",
   "execution_count": 75,
   "metadata": {},
   "outputs": [],
   "source": [
    "X_inf = inf_cleaned.drop('payment',axis=1).copy()"
   ]
  },
  {
   "cell_type": "code",
   "execution_count": 76,
   "metadata": {},
   "outputs": [
    {
     "data": {
      "text/plain": [
       "array([0, 1], dtype=int64)"
      ]
     },
     "execution_count": 76,
     "metadata": {},
     "output_type": "execute_result"
    }
   ],
   "source": [
    "y_pred_inf = ab_model_final.predict(X_inf)\n",
    "y_pred_inf"
   ]
  },
  {
   "cell_type": "markdown",
   "metadata": {},
   "source": [
    "`Dari hasilnya, model sudah berhasil memprediksi pada data inference sehingga dapat dikatakan model sudah boleh diimplementasikan pada data real dan juga jika dilihat dari hasil prediksinya, model berhasil menebak seluruhnya dengan benar kelas tidak default maupun kelas default`"
   ]
  },
  {
   "cell_type": "markdown",
   "metadata": {},
   "source": [
    "## ix. kesimpulan "
   ]
  },
  {
   "cell_type": "markdown",
   "metadata": {},
   "source": [
    "`Berdasarkan analisis dan overview yang didapat:`\n",
    "\n",
    "- Pada data credit card tidak mempunyai missing value tetapi terdapat 1 duplicate data saja\n",
    "- Pada kolom educatin level mempunyai unique value yang missleading seperti 0,5, dan 6. Sehingga ketiga unique value tersebut digabung menjadi unique 4 saja yang berari others. \n",
    "- Begitupun juga dengan kolom marital status mempunyai unique value yang missleading yaitu 0. sehingga unique value tersebut digabungkan dengan unique value 3 yang berarti others.\n",
    "- Pada kolom pay_0 mempunyai nama yang missleading sehingga perlu diganti menjadi pay_1 agar sama urutannya seperti kolom bill_amt dan pay_amt sesuai dengan bulannya\n",
    "- Pada nama kolom default_payment_next_month atau target diubah menjadi payment agar mudah pembacaannya.\n",
    "- Pada target datanya mempunyai kelas yang tidak seimbang atau datanya bersifat imbalanced. Kelas tidak default sebanyak 2329 sedangkan kelas default sebanyak 635\n",
    "- Fitur yang digunakan untuk modeling adalah limit_balance, pay_1, pay_2, pay_3, pay_4, pay_5, dan pay_6. Dikarenakan ketujuh fitur tersebut mempunyai nilai korelasi dengan target yang cukup tinggi yaitu diatas 0,1 dibanding fitur fitur yang lain masih dibawah 0,1.\n",
    "- Model yang digunakan  \n",
    "- Dari hasil cross validation, 7 model yang di validasi yaitu logistic regresion, SVC, Decision Tree, Random Forest, KNN, Naive Bayes, dan Adaboost didapatkan hasil rata rata accuracy dan standar deviasi di setiap modelnya. Dari ketujuh model menggunakan parameter yang sama yaitu default. Untuk rata rata accuracy tertinggi jatuh kepada model SVC yaitu 0.853 sedangkan untuk nilai standar deviasi terkecil atau model yang paling konsisten adalah AdaBoost dengan standar deviasinya 0.0031. Ditinjau dari kedua model tersebut yang terbaik adalah model AdaBoost. Dikarenakan model AdaBoost mempunyai nilai yang paling konsisten dan juga rata rata accuracynya tidak terlalu jaug dengan model SVC yaitu dengan rata rata accuracynya 0,8341 yang dimana hanya selisih 0.001 saja dengan SVC.\n",
    "- Hyperparameter tuning dilakukan dengan GridSearchCV pada model terbaik yaitu AdaBoost. Didapat score accuracy terbaik yaitu 0.8433 dengan hyper parameternya algorithm SAMME.R, lalu learning rate sebesar 0.1, n estimator sebanyak 100 dan random statenya 10. Selisih model AdaBoost dengan hyperparameter default dan yang sudah dituning hanya selisih sedikit yaitu 0.01 saja. Yang dimana model AdaBoost dengan hyperparameter yang telah dituning lebih bagus dibanding model AdaBoost hyperparameter default. Sehingga model yang menggunakan hyperparamter yang telah dituning akan digunakan sebagai model dan dilakukan evaluasi menggunakan data train dan test\n",
    "- Dilihat dari point of view pihak bank, urgensi data akan berakibat fatal jika hasil prediksi model adalah memprediksi orang tersebut tidak default atau bayar tepat waktu sedangkan pada kenyataan datanya orang tersebut telat atau menunggak pembayaran tagihan kreditnya. Jika terjadi prediksi tersebut, itu akan sangat merugikan pihak bank. Sehingga sangat dihindari kesalahan prediksi seperti tersebut dengan memerhatikan nilai recall kelas default pada classification report agar mendekati 1\n",
    "- Model AdaBoost mempunyai bentuk overfit, dikarenakan recall pada data training mempunyai nilai 0.40 sedangkan nilai recall pada data testing adalah 0.37\n",
    "- Hasil dari evaluasi model terbilang tidak cukup bagus untuk urgensi yang telah disebutkan sebelumnya. Dikarenakan nilai recall kelas defaultnya masih dibawah 0.5. Sehingga dari pihak bank akan mengalami kerugian akibat salah prediksi dikarenakan bank akan banyak memberi pinjaman kepada orang yang tidak bisa membayar tagihan pinjamannya."
   ]
  },
  {
   "cell_type": "markdown",
   "metadata": {},
   "source": [
    "# Conceptual Problems"
   ]
  },
  {
   "cell_type": "markdown",
   "metadata": {},
   "source": [
    "1. Apakah fungsi parameter criterion pada Decision Tree? Jelaskan salah satu criterion yang kalian pahami!\n",
    "- Criterion pada parameter decision tree berfungsi sebagai metode saat melakukan operasi pemisahan. Dikarenakan decision tree mempunyai konsep partisi, sehingga paramter criterion sangat penting dalam menentukan bagaimana cara membaginya. Salah satu contoh criterion adalah Gini. Gini mempunyai nilai antara 0 hingga 0,5. Jika gini bernilai 0 maka menandakan tidak ada pembagian selanjutnya atau bisa dikatakan sudah menjadi leaf. Daya komputasi gini terhitung lebih cepat dibandingkan dengan metode yang lain seperti entropi, dikarenakan pada mekanisme penghitungan medote gini tersebut tidak menghitung fungsi log.\n",
    "\n",
    "2. Apakah fungsi dari pruning pada Tree model?\n",
    "- Pada decision tree cenderung overfitting saat modeling. Dikarenakan decision tree akan selalu overfit pada data training jika kita membiarkannya mencapai max depthnya atau maksimal kedalamannya. Oleh karena itu, kita membutuhkan pruning untuk mengurangi terjadinya overfiting dengan menyederhanakan decision tree dengan cara menghapus aturan terlemah atau the weekest rules. Pruning menghentikan tree sebelum selesai mengklasifikasikan set training dan pruning memungkinkan tree untuk mengklasifikasikan set training dengan sempurna yang dilanjutkan dengan memangkas tree tersebut agar tidak terjadinya overfitting\n",
    "\n",
    "3. Bagaimana cara memilih K yang optimal pada KNN?\n",
    "- Pada algoritma K-Nearest Neighbor dapat memprediksi kategori titik uji dari label kelas uji yang tersedia dengan mencari jarak antara titik uji dan nilai fitur K Terdekat yang dilatih. Langkah `pertama` yang dilakukan adalah menentukan nilai K terlebih dahulu berdasarkan asumsi pribadi, biasanya jika kelas berjumlah genap maka sebaiknya nilai K-nya ganjil begitupun sebaliknya, jika kelas berjumlah ganjil maka sebaiknya nilai K-nya genap. Langkah `kedua` adalah berhati hati dalam menentukan nilai K yang sangat kecil agar tidak terjadinya unstable decision boundaries. Lanngkah `ketiga` yaitu mencari nilai K yang substansial untuk klasifikasi karena mengarah pada smoothening the decision boundaries. Langkah `Keempat` yaitu membuat plot antara tingkat kesalahan atau nilai error dalam menggunakan K yang kita ingin gunakan. Lalu pilih nilai K yang memiliki tingkat kesalahan atau error yang paling kecil  \n",
    "\n",
    "4. Jelaskan apa yang kalian ketahui tentang Cross Validation!\n",
    "- cross validation berfungsi untuk mengevaluasi model machine learning tertentu dengan melatih beberapa model tersebut pada data training yang tersedia dan mengevaluasinya hasilnya. Dengan menggunakan cross validation, ada kemungkinan besar dapat mendeteksi overfit dengan mudah. Untuk melakukan cross validation, kita harus membuat jumlah lipatan (partisi) data yang tetap atau cv diparameternya dan kemudian melakukan analisis pada setiap lipatan ata cv tersebut. Lalu menghitung rata-rata estimasi kesalahan keseluruhan dan juga nilai standar deviasi sebagai tolak ukur kekonsistenan model tersebut.\n",
    "\n",
    "5. Jelaskan apa yang kalian ketahui tentang Accuracy, Precision, Recall, F1 Score!\n",
    "- `Accuracy`\n",
    "Merupakan rasio prediksi Benar (positif dan negatif) dengan keseluruhan data. Accuracy bisa digunakan ketika kondisi data yang seimbang antar target kelasnya. \n",
    "> Accuracy = (TP + TN) /(TP + TN + FP + FN)\n",
    "- `Precission`\n",
    "Merupakan rasio prediksi benar positif dibandingkan dengan keseluruhan hasil yang diprediksi positf. Precision biasa digunakan ketika kondisi data tidak seimbang atau imbalance pada kelas targetnya.\n",
    "> Precision = (TP) / (TP + FP)\n",
    "- `Recall` \n",
    "Merupakan rasio prediksi benar positif dibandingkan dengan keseluruhan data yang benar positif. Recall biasa digunakan ketika kondisi data tidak seimbang atau imbalance pada kelas targetnya.\n",
    "> Recall = (TP) / (TP + FN)\n",
    "- `F1 Score`\n",
    "Merupakan perbandingan rata-rata presisi dan recall yang dibobotkan. Biasanya F1 Score bisa digunakan ketika selisih antara recall dan precission tidak terlalu jauh.\n",
    "> F1 Score = (2 x Precision x Recall) / (Precision + Recall)"
   ]
  }
 ],
 "metadata": {
  "kernelspec": {
   "display_name": "Python 3.9.12 ('base')",
   "language": "python",
   "name": "python3"
  },
  "language_info": {
   "codemirror_mode": {
    "name": "ipython",
    "version": 3
   },
   "file_extension": ".py",
   "mimetype": "text/x-python",
   "name": "python",
   "nbconvert_exporter": "python",
   "pygments_lexer": "ipython3",
   "version": "3.9.12"
  },
  "orig_nbformat": 4,
  "vscode": {
   "interpreter": {
    "hash": "64087c05517b33257bd26fee8240dd1a9cb50f7f485281477065af628d452c6d"
   }
  }
 },
 "nbformat": 4,
 "nbformat_minor": 2
}
